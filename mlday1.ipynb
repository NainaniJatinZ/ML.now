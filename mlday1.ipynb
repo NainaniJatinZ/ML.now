{
  "nbformat": 4,
  "nbformat_minor": 0,
  "metadata": {
    "colab": {
      "name": "mlday1.ipynb",
      "provenance": [],
      "collapsed_sections": [],
      "authorship_tag": "ABX9TyPdFkONz+VYpql0PtF71zBq",
      "include_colab_link": true
    },
    "kernelspec": {
      "name": "python3",
      "display_name": "Python 3"
    },
    "language_info": {
      "name": "python"
    }
  },
  "cells": [
    {
      "cell_type": "markdown",
      "metadata": {
        "id": "view-in-github",
        "colab_type": "text"
      },
      "source": [
        "<a href=\"https://colab.research.google.com/github/NainaniJatinZ/ML.now/blob/main/mlday1.ipynb\" target=\"_parent\"><img src=\"https://colab.research.google.com/assets/colab-badge.svg\" alt=\"Open In Colab\"/></a>"
      ]
    },
    {
      "cell_type": "code",
      "metadata": {
        "colab": {
          "base_uri": "https://localhost:8080/"
        },
        "id": "OlUJxnIpVdPW",
        "outputId": "daec3757-5ccf-4cd2-ca37-f4f118dfbcce"
      },
      "source": [
        "from google.colab import drive\n",
        "drive.mount('/content/drive')"
      ],
      "execution_count": 2,
      "outputs": [
        {
          "output_type": "stream",
          "text": [
            "Mounted at /content/drive\n"
          ],
          "name": "stdout"
        }
      ]
    },
    {
      "cell_type": "markdown",
      "metadata": {
        "id": "uLXJEYiDczws"
      },
      "source": [
        "#Problem Statement\n",
        "\n",
        "Train a model to learn the table of 10 \n",
        "\n",
        "Equation: `y = 10*x`\n"
      ]
    },
    {
      "cell_type": "code",
      "metadata": {
        "colab": {
          "base_uri": "https://localhost:8080/"
        },
        "id": "l4dfv6zbcpJt",
        "outputId": "baf16256-af03-4207-c9a3-fa1007a4ae26"
      },
      "source": [
        "x = [i for i in range(21)]\n",
        "y = [i*10 for i in range(21)]\n",
        "print(x, y)"
      ],
      "execution_count": 6,
      "outputs": [
        {
          "output_type": "stream",
          "text": [
            "[0, 1, 2, 3, 4, 5, 6, 7, 8, 9, 10, 11, 12, 13, 14, 15, 16, 17, 18, 19, 20] [0, 10, 20, 30, 40, 50, 60, 70, 80, 90, 100, 110, 120, 130, 140, 150, 160, 170, 180, 190, 200]\n"
          ],
          "name": "stdout"
        }
      ]
    },
    {
      "cell_type": "markdown",
      "metadata": {
        "id": "lCMzPUIvgd_0"
      },
      "source": [
        "Approach 1\n",
        "\n",
        "function for equation y = 10x"
      ]
    },
    {
      "cell_type": "code",
      "metadata": {
        "id": "M-Qjzlw7gcyF"
      },
      "source": [
        "def tempF(x):\n",
        "  y = 10*x"
      ],
      "execution_count": null,
      "outputs": []
    },
    {
      "cell_type": "markdown",
      "metadata": {
        "id": "TGIq-DZ4hgnM"
      },
      "source": [
        "Approach 2\n",
        "\n",
        "ml\n"
      ]
    },
    {
      "cell_type": "code",
      "metadata": {
        "id": "z0FPfIq2hjd_"
      },
      "source": [
        "xTrain = x[:-5]\n",
        "yTrain = y[:-5]\n",
        "\n",
        "xtest = x[-5:]\n",
        "ytest = y[-5:]"
      ],
      "execution_count": 7,
      "outputs": []
    },
    {
      "cell_type": "code",
      "metadata": {
        "id": "cAbmxAmGk-rt"
      },
      "source": [
        "import tensorflow as tf\n",
        "from tensorflow import keras"
      ],
      "execution_count": 8,
      "outputs": []
    },
    {
      "cell_type": "code",
      "metadata": {
        "id": "khjYCYBjl627"
      },
      "source": [
        "#perceptron model\n",
        "\n",
        "model = tf.keras.Sequential([\n",
        "                             tf.keras.layers.Dense(units=1, input_shape=[1]) \n",
        "])"
      ],
      "execution_count": 9,
      "outputs": []
    },
    {
      "cell_type": "code",
      "metadata": {
        "id": "hJTaGOn7mpYd"
      },
      "source": [
        "model.compile(optimizer='adam', loss='mae')"
      ],
      "execution_count": 13,
      "outputs": []
    },
    {
      "cell_type": "code",
      "metadata": {
        "id": "C0qm4G4enKEt"
      },
      "source": [
        "model.fit(x=xTrain, y=yTrain, validation_data=(xtest, ytest), epochs=50)"
      ],
      "execution_count": null,
      "outputs": []
    }
  ]
}