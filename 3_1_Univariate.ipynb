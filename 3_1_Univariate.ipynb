{
  "nbformat": 4,
  "nbformat_minor": 0,
  "metadata": {
    "colab": {
      "name": "3.1_Univariate.ipynb",
      "provenance": [],
      "toc_visible": true,
      "include_colab_link": true
    },
    "kernelspec": {
      "name": "python3",
      "display_name": "Python 3"
    }
  },
  "cells": [
    {
      "cell_type": "markdown",
      "metadata": {
        "id": "view-in-github",
        "colab_type": "text"
      },
      "source": [
        "<a href=\"https://colab.research.google.com/github/NainaniJatinZ/ML.now/blob/main/3_1_Univariate.ipynb\" target=\"_parent\"><img src=\"https://colab.research.google.com/assets/colab-badge.svg\" alt=\"Open In Colab\"/></a>"
      ]
    },
    {
      "cell_type": "markdown",
      "metadata": {
        "id": "q_569ugy6lyY"
      },
      "source": [
        "> This notebook was created for code illustration of the `ML.now()` course\n",
        "\n",
        "\n",
        "`Univariate Linear Regression`\n",
        "\n",
        "[Link to Download the dataset](https://archive.ics.uci.edu/ml/datasets/Student+Performance)\n",
        "\n",
        "**Date Created**: June 6, 2021\n",
        "\n",
        "\n",
        "**Author**:\n",
        " Shivani Shimpi \n",
        "\n",
        "**Reach out**:\n",
        "[Email](https://www.google.com/intl/en-GB/gmail/about/#) | [GitHub](https://github.com/shivanishimpi) | [LinkedIn](https://www.linkedin.com/in/shivani-shimpi-5113a8170/)\n",
        "\n",
        "[[Course Repository](https://github.com/shivanishimpi/MLnow_2.0)]\n",
        "\n",
        "Feel free to check out my [website](http://shivanishimpi.github.io/) for more information"
      ]
    },
    {
      "cell_type": "markdown",
      "metadata": {
        "id": "KmW9S6zjaauQ"
      },
      "source": [
        "## Setup"
      ]
    },
    {
      "cell_type": "code",
      "metadata": {
        "colab": {
          "base_uri": "https://localhost:8080/"
        },
        "id": "oX_QibhWsnnX",
        "outputId": "deb0e601-f39b-4a86-8036-69ead0f25da4"
      },
      "source": [
        "from google.colab import drive\n",
        "drive.mount('/content/drive')"
      ],
      "execution_count": null,
      "outputs": [
        {
          "output_type": "stream",
          "text": [
            "Mounted at /content/drive\n"
          ],
          "name": "stdout"
        }
      ]
    },
    {
      "cell_type": "code",
      "metadata": {
        "colab": {
          "base_uri": "https://localhost:8080/"
        },
        "id": "wYuNn17Isvml",
        "outputId": "b9de8d5e-a068-41f9-c10d-663736908eac"
      },
      "source": [
        "cd '/content/drive/MyDrive/Colab Notebooks/GirlScriptML/EDA'"
      ],
      "execution_count": null,
      "outputs": [
        {
          "output_type": "stream",
          "text": [
            "/content/drive/MyDrive/Colab Notebooks/GirlScriptML/EDA\n"
          ],
          "name": "stdout"
        }
      ]
    },
    {
      "cell_type": "code",
      "metadata": {
        "colab": {
          "base_uri": "https://localhost:8080/"
        },
        "id": "oR69jwALs-uP",
        "outputId": "426ad7da-a2c1-421f-f0f0-783dfd5a14e3"
      },
      "source": [
        "ls"
      ],
      "execution_count": null,
      "outputs": [
        {
          "output_type": "stream",
          "text": [
            "student-mat.csv  student-merge.R  student-por.csv  student.txt\n"
          ],
          "name": "stdout"
        }
      ]
    },
    {
      "cell_type": "code",
      "metadata": {
        "id": "0rYwvbeMtPJg"
      },
      "source": [
        "import os"
      ],
      "execution_count": null,
      "outputs": []
    },
    {
      "cell_type": "code",
      "metadata": {
        "id": "cnGQRbmes_tZ"
      },
      "source": [
        "import pandas as pd #working with csv or excel files\n",
        "import numpy as np #working with numbers/ arrays/ tensors\n",
        "import tensorflow as tf #framework\n",
        "from tensorflow import keras #API / library \n",
        "import os #using os commands between the python language"
      ],
      "execution_count": null,
      "outputs": []
    },
    {
      "cell_type": "code",
      "metadata": {
        "id": "VV-Ps6dJtX6B"
      },
      "source": [
        "mathData = pd.read_csv('student-mat.csv', sep=';') #load the csv file as dataframe"
      ],
      "execution_count": null,
      "outputs": []
    },
    {
      "cell_type": "code",
      "metadata": {
        "colab": {
          "base_uri": "https://localhost:8080/",
          "height": 377
        },
        "id": "2_KId_bptr05",
        "outputId": "4d90737e-823e-480d-e9a4-6774ecc9c2a8"
      },
      "source": [
        "mathData.head(10) #print the first ten rows of the dataframe"
      ],
      "execution_count": null,
      "outputs": [
        {
          "output_type": "execute_result",
          "data": {
            "text/html": [
              "<div>\n",
              "<style scoped>\n",
              "    .dataframe tbody tr th:only-of-type {\n",
              "        vertical-align: middle;\n",
              "    }\n",
              "\n",
              "    .dataframe tbody tr th {\n",
              "        vertical-align: top;\n",
              "    }\n",
              "\n",
              "    .dataframe thead th {\n",
              "        text-align: right;\n",
              "    }\n",
              "</style>\n",
              "<table border=\"1\" class=\"dataframe\">\n",
              "  <thead>\n",
              "    <tr style=\"text-align: right;\">\n",
              "      <th></th>\n",
              "      <th>school</th>\n",
              "      <th>sex</th>\n",
              "      <th>age</th>\n",
              "      <th>address</th>\n",
              "      <th>famsize</th>\n",
              "      <th>Pstatus</th>\n",
              "      <th>Medu</th>\n",
              "      <th>Fedu</th>\n",
              "      <th>Mjob</th>\n",
              "      <th>Fjob</th>\n",
              "      <th>reason</th>\n",
              "      <th>guardian</th>\n",
              "      <th>traveltime</th>\n",
              "      <th>studytime</th>\n",
              "      <th>failures</th>\n",
              "      <th>schoolsup</th>\n",
              "      <th>famsup</th>\n",
              "      <th>paid</th>\n",
              "      <th>activities</th>\n",
              "      <th>nursery</th>\n",
              "      <th>higher</th>\n",
              "      <th>internet</th>\n",
              "      <th>romantic</th>\n",
              "      <th>famrel</th>\n",
              "      <th>freetime</th>\n",
              "      <th>goout</th>\n",
              "      <th>Dalc</th>\n",
              "      <th>Walc</th>\n",
              "      <th>health</th>\n",
              "      <th>absences</th>\n",
              "      <th>G1</th>\n",
              "      <th>G2</th>\n",
              "      <th>G3</th>\n",
              "    </tr>\n",
              "  </thead>\n",
              "  <tbody>\n",
              "    <tr>\n",
              "      <th>0</th>\n",
              "      <td>GP</td>\n",
              "      <td>F</td>\n",
              "      <td>18</td>\n",
              "      <td>U</td>\n",
              "      <td>GT3</td>\n",
              "      <td>A</td>\n",
              "      <td>4</td>\n",
              "      <td>4</td>\n",
              "      <td>at_home</td>\n",
              "      <td>teacher</td>\n",
              "      <td>course</td>\n",
              "      <td>mother</td>\n",
              "      <td>2</td>\n",
              "      <td>2</td>\n",
              "      <td>0</td>\n",
              "      <td>yes</td>\n",
              "      <td>no</td>\n",
              "      <td>no</td>\n",
              "      <td>no</td>\n",
              "      <td>yes</td>\n",
              "      <td>yes</td>\n",
              "      <td>no</td>\n",
              "      <td>no</td>\n",
              "      <td>4</td>\n",
              "      <td>3</td>\n",
              "      <td>4</td>\n",
              "      <td>1</td>\n",
              "      <td>1</td>\n",
              "      <td>3</td>\n",
              "      <td>6</td>\n",
              "      <td>5</td>\n",
              "      <td>6</td>\n",
              "      <td>6</td>\n",
              "    </tr>\n",
              "    <tr>\n",
              "      <th>1</th>\n",
              "      <td>GP</td>\n",
              "      <td>F</td>\n",
              "      <td>17</td>\n",
              "      <td>U</td>\n",
              "      <td>GT3</td>\n",
              "      <td>T</td>\n",
              "      <td>1</td>\n",
              "      <td>1</td>\n",
              "      <td>at_home</td>\n",
              "      <td>other</td>\n",
              "      <td>course</td>\n",
              "      <td>father</td>\n",
              "      <td>1</td>\n",
              "      <td>2</td>\n",
              "      <td>0</td>\n",
              "      <td>no</td>\n",
              "      <td>yes</td>\n",
              "      <td>no</td>\n",
              "      <td>no</td>\n",
              "      <td>no</td>\n",
              "      <td>yes</td>\n",
              "      <td>yes</td>\n",
              "      <td>no</td>\n",
              "      <td>5</td>\n",
              "      <td>3</td>\n",
              "      <td>3</td>\n",
              "      <td>1</td>\n",
              "      <td>1</td>\n",
              "      <td>3</td>\n",
              "      <td>4</td>\n",
              "      <td>5</td>\n",
              "      <td>5</td>\n",
              "      <td>6</td>\n",
              "    </tr>\n",
              "    <tr>\n",
              "      <th>2</th>\n",
              "      <td>GP</td>\n",
              "      <td>F</td>\n",
              "      <td>15</td>\n",
              "      <td>U</td>\n",
              "      <td>LE3</td>\n",
              "      <td>T</td>\n",
              "      <td>1</td>\n",
              "      <td>1</td>\n",
              "      <td>at_home</td>\n",
              "      <td>other</td>\n",
              "      <td>other</td>\n",
              "      <td>mother</td>\n",
              "      <td>1</td>\n",
              "      <td>2</td>\n",
              "      <td>3</td>\n",
              "      <td>yes</td>\n",
              "      <td>no</td>\n",
              "      <td>yes</td>\n",
              "      <td>no</td>\n",
              "      <td>yes</td>\n",
              "      <td>yes</td>\n",
              "      <td>yes</td>\n",
              "      <td>no</td>\n",
              "      <td>4</td>\n",
              "      <td>3</td>\n",
              "      <td>2</td>\n",
              "      <td>2</td>\n",
              "      <td>3</td>\n",
              "      <td>3</td>\n",
              "      <td>10</td>\n",
              "      <td>7</td>\n",
              "      <td>8</td>\n",
              "      <td>10</td>\n",
              "    </tr>\n",
              "    <tr>\n",
              "      <th>3</th>\n",
              "      <td>GP</td>\n",
              "      <td>F</td>\n",
              "      <td>15</td>\n",
              "      <td>U</td>\n",
              "      <td>GT3</td>\n",
              "      <td>T</td>\n",
              "      <td>4</td>\n",
              "      <td>2</td>\n",
              "      <td>health</td>\n",
              "      <td>services</td>\n",
              "      <td>home</td>\n",
              "      <td>mother</td>\n",
              "      <td>1</td>\n",
              "      <td>3</td>\n",
              "      <td>0</td>\n",
              "      <td>no</td>\n",
              "      <td>yes</td>\n",
              "      <td>yes</td>\n",
              "      <td>yes</td>\n",
              "      <td>yes</td>\n",
              "      <td>yes</td>\n",
              "      <td>yes</td>\n",
              "      <td>yes</td>\n",
              "      <td>3</td>\n",
              "      <td>2</td>\n",
              "      <td>2</td>\n",
              "      <td>1</td>\n",
              "      <td>1</td>\n",
              "      <td>5</td>\n",
              "      <td>2</td>\n",
              "      <td>15</td>\n",
              "      <td>14</td>\n",
              "      <td>15</td>\n",
              "    </tr>\n",
              "    <tr>\n",
              "      <th>4</th>\n",
              "      <td>GP</td>\n",
              "      <td>F</td>\n",
              "      <td>16</td>\n",
              "      <td>U</td>\n",
              "      <td>GT3</td>\n",
              "      <td>T</td>\n",
              "      <td>3</td>\n",
              "      <td>3</td>\n",
              "      <td>other</td>\n",
              "      <td>other</td>\n",
              "      <td>home</td>\n",
              "      <td>father</td>\n",
              "      <td>1</td>\n",
              "      <td>2</td>\n",
              "      <td>0</td>\n",
              "      <td>no</td>\n",
              "      <td>yes</td>\n",
              "      <td>yes</td>\n",
              "      <td>no</td>\n",
              "      <td>yes</td>\n",
              "      <td>yes</td>\n",
              "      <td>no</td>\n",
              "      <td>no</td>\n",
              "      <td>4</td>\n",
              "      <td>3</td>\n",
              "      <td>2</td>\n",
              "      <td>1</td>\n",
              "      <td>2</td>\n",
              "      <td>5</td>\n",
              "      <td>4</td>\n",
              "      <td>6</td>\n",
              "      <td>10</td>\n",
              "      <td>10</td>\n",
              "    </tr>\n",
              "    <tr>\n",
              "      <th>5</th>\n",
              "      <td>GP</td>\n",
              "      <td>M</td>\n",
              "      <td>16</td>\n",
              "      <td>U</td>\n",
              "      <td>LE3</td>\n",
              "      <td>T</td>\n",
              "      <td>4</td>\n",
              "      <td>3</td>\n",
              "      <td>services</td>\n",
              "      <td>other</td>\n",
              "      <td>reputation</td>\n",
              "      <td>mother</td>\n",
              "      <td>1</td>\n",
              "      <td>2</td>\n",
              "      <td>0</td>\n",
              "      <td>no</td>\n",
              "      <td>yes</td>\n",
              "      <td>yes</td>\n",
              "      <td>yes</td>\n",
              "      <td>yes</td>\n",
              "      <td>yes</td>\n",
              "      <td>yes</td>\n",
              "      <td>no</td>\n",
              "      <td>5</td>\n",
              "      <td>4</td>\n",
              "      <td>2</td>\n",
              "      <td>1</td>\n",
              "      <td>2</td>\n",
              "      <td>5</td>\n",
              "      <td>10</td>\n",
              "      <td>15</td>\n",
              "      <td>15</td>\n",
              "      <td>15</td>\n",
              "    </tr>\n",
              "    <tr>\n",
              "      <th>6</th>\n",
              "      <td>GP</td>\n",
              "      <td>M</td>\n",
              "      <td>16</td>\n",
              "      <td>U</td>\n",
              "      <td>LE3</td>\n",
              "      <td>T</td>\n",
              "      <td>2</td>\n",
              "      <td>2</td>\n",
              "      <td>other</td>\n",
              "      <td>other</td>\n",
              "      <td>home</td>\n",
              "      <td>mother</td>\n",
              "      <td>1</td>\n",
              "      <td>2</td>\n",
              "      <td>0</td>\n",
              "      <td>no</td>\n",
              "      <td>no</td>\n",
              "      <td>no</td>\n",
              "      <td>no</td>\n",
              "      <td>yes</td>\n",
              "      <td>yes</td>\n",
              "      <td>yes</td>\n",
              "      <td>no</td>\n",
              "      <td>4</td>\n",
              "      <td>4</td>\n",
              "      <td>4</td>\n",
              "      <td>1</td>\n",
              "      <td>1</td>\n",
              "      <td>3</td>\n",
              "      <td>0</td>\n",
              "      <td>12</td>\n",
              "      <td>12</td>\n",
              "      <td>11</td>\n",
              "    </tr>\n",
              "    <tr>\n",
              "      <th>7</th>\n",
              "      <td>GP</td>\n",
              "      <td>F</td>\n",
              "      <td>17</td>\n",
              "      <td>U</td>\n",
              "      <td>GT3</td>\n",
              "      <td>A</td>\n",
              "      <td>4</td>\n",
              "      <td>4</td>\n",
              "      <td>other</td>\n",
              "      <td>teacher</td>\n",
              "      <td>home</td>\n",
              "      <td>mother</td>\n",
              "      <td>2</td>\n",
              "      <td>2</td>\n",
              "      <td>0</td>\n",
              "      <td>yes</td>\n",
              "      <td>yes</td>\n",
              "      <td>no</td>\n",
              "      <td>no</td>\n",
              "      <td>yes</td>\n",
              "      <td>yes</td>\n",
              "      <td>no</td>\n",
              "      <td>no</td>\n",
              "      <td>4</td>\n",
              "      <td>1</td>\n",
              "      <td>4</td>\n",
              "      <td>1</td>\n",
              "      <td>1</td>\n",
              "      <td>1</td>\n",
              "      <td>6</td>\n",
              "      <td>6</td>\n",
              "      <td>5</td>\n",
              "      <td>6</td>\n",
              "    </tr>\n",
              "    <tr>\n",
              "      <th>8</th>\n",
              "      <td>GP</td>\n",
              "      <td>M</td>\n",
              "      <td>15</td>\n",
              "      <td>U</td>\n",
              "      <td>LE3</td>\n",
              "      <td>A</td>\n",
              "      <td>3</td>\n",
              "      <td>2</td>\n",
              "      <td>services</td>\n",
              "      <td>other</td>\n",
              "      <td>home</td>\n",
              "      <td>mother</td>\n",
              "      <td>1</td>\n",
              "      <td>2</td>\n",
              "      <td>0</td>\n",
              "      <td>no</td>\n",
              "      <td>yes</td>\n",
              "      <td>yes</td>\n",
              "      <td>no</td>\n",
              "      <td>yes</td>\n",
              "      <td>yes</td>\n",
              "      <td>yes</td>\n",
              "      <td>no</td>\n",
              "      <td>4</td>\n",
              "      <td>2</td>\n",
              "      <td>2</td>\n",
              "      <td>1</td>\n",
              "      <td>1</td>\n",
              "      <td>1</td>\n",
              "      <td>0</td>\n",
              "      <td>16</td>\n",
              "      <td>18</td>\n",
              "      <td>19</td>\n",
              "    </tr>\n",
              "    <tr>\n",
              "      <th>9</th>\n",
              "      <td>GP</td>\n",
              "      <td>M</td>\n",
              "      <td>15</td>\n",
              "      <td>U</td>\n",
              "      <td>GT3</td>\n",
              "      <td>T</td>\n",
              "      <td>3</td>\n",
              "      <td>4</td>\n",
              "      <td>other</td>\n",
              "      <td>other</td>\n",
              "      <td>home</td>\n",
              "      <td>mother</td>\n",
              "      <td>1</td>\n",
              "      <td>2</td>\n",
              "      <td>0</td>\n",
              "      <td>no</td>\n",
              "      <td>yes</td>\n",
              "      <td>yes</td>\n",
              "      <td>yes</td>\n",
              "      <td>yes</td>\n",
              "      <td>yes</td>\n",
              "      <td>yes</td>\n",
              "      <td>no</td>\n",
              "      <td>5</td>\n",
              "      <td>5</td>\n",
              "      <td>1</td>\n",
              "      <td>1</td>\n",
              "      <td>1</td>\n",
              "      <td>5</td>\n",
              "      <td>0</td>\n",
              "      <td>14</td>\n",
              "      <td>15</td>\n",
              "      <td>15</td>\n",
              "    </tr>\n",
              "  </tbody>\n",
              "</table>\n",
              "</div>"
            ],
            "text/plain": [
              "  school sex  age address famsize Pstatus  ...  Walc  health absences  G1  G2  G3\n",
              "0     GP   F   18       U     GT3       A  ...     1       3        6   5   6   6\n",
              "1     GP   F   17       U     GT3       T  ...     1       3        4   5   5   6\n",
              "2     GP   F   15       U     LE3       T  ...     3       3       10   7   8  10\n",
              "3     GP   F   15       U     GT3       T  ...     1       5        2  15  14  15\n",
              "4     GP   F   16       U     GT3       T  ...     2       5        4   6  10  10\n",
              "5     GP   M   16       U     LE3       T  ...     2       5       10  15  15  15\n",
              "6     GP   M   16       U     LE3       T  ...     1       3        0  12  12  11\n",
              "7     GP   F   17       U     GT3       A  ...     1       1        6   6   5   6\n",
              "8     GP   M   15       U     LE3       A  ...     1       1        0  16  18  19\n",
              "9     GP   M   15       U     GT3       T  ...     1       5        0  14  15  15\n",
              "\n",
              "[10 rows x 33 columns]"
            ]
          },
          "metadata": {
            "tags": []
          },
          "execution_count": 7
        }
      ]
    },
    {
      "cell_type": "markdown",
      "metadata": {
        "id": "i2bal50yG_PZ"
      },
      "source": [
        "We are just going to consider the columns `G1` and `G3` for univariate linear regression"
      ]
    },
    {
      "cell_type": "code",
      "metadata": {
        "colab": {
          "base_uri": "https://localhost:8080/",
          "height": 203
        },
        "id": "Yw0PNCuTSEDC",
        "outputId": "aab9bc9d-49da-4f3a-ec57-29f91755e391"
      },
      "source": [
        "uniMathData = mathData[['G1', 'G3']]\n",
        "uniMathData.head(5)"
      ],
      "execution_count": null,
      "outputs": [
        {
          "output_type": "execute_result",
          "data": {
            "text/html": [
              "<div>\n",
              "<style scoped>\n",
              "    .dataframe tbody tr th:only-of-type {\n",
              "        vertical-align: middle;\n",
              "    }\n",
              "\n",
              "    .dataframe tbody tr th {\n",
              "        vertical-align: top;\n",
              "    }\n",
              "\n",
              "    .dataframe thead th {\n",
              "        text-align: right;\n",
              "    }\n",
              "</style>\n",
              "<table border=\"1\" class=\"dataframe\">\n",
              "  <thead>\n",
              "    <tr style=\"text-align: right;\">\n",
              "      <th></th>\n",
              "      <th>G1</th>\n",
              "      <th>G3</th>\n",
              "    </tr>\n",
              "  </thead>\n",
              "  <tbody>\n",
              "    <tr>\n",
              "      <th>0</th>\n",
              "      <td>5</td>\n",
              "      <td>6</td>\n",
              "    </tr>\n",
              "    <tr>\n",
              "      <th>1</th>\n",
              "      <td>5</td>\n",
              "      <td>6</td>\n",
              "    </tr>\n",
              "    <tr>\n",
              "      <th>2</th>\n",
              "      <td>7</td>\n",
              "      <td>10</td>\n",
              "    </tr>\n",
              "    <tr>\n",
              "      <th>3</th>\n",
              "      <td>15</td>\n",
              "      <td>15</td>\n",
              "    </tr>\n",
              "    <tr>\n",
              "      <th>4</th>\n",
              "      <td>6</td>\n",
              "      <td>10</td>\n",
              "    </tr>\n",
              "  </tbody>\n",
              "</table>\n",
              "</div>"
            ],
            "text/plain": [
              "   G1  G3\n",
              "0   5   6\n",
              "1   5   6\n",
              "2   7  10\n",
              "3  15  15\n",
              "4   6  10"
            ]
          },
          "metadata": {
            "tags": []
          },
          "execution_count": 8
        }
      ]
    },
    {
      "cell_type": "code",
      "metadata": {
        "id": "eyzP9mL4Hmb5"
      },
      "source": [
        "uniMathData.to_csv('univariate_MathData_2.csv')"
      ],
      "execution_count": null,
      "outputs": []
    },
    {
      "cell_type": "code",
      "metadata": {
        "colab": {
          "base_uri": "https://localhost:8080/"
        },
        "id": "I-3qK_nNxnTA",
        "outputId": "1ada7dfa-ec19-4210-c23a-b3911ab6a69f"
      },
      "source": [
        "ls"
      ],
      "execution_count": null,
      "outputs": [
        {
          "output_type": "stream",
          "text": [
            "student-mat.csv  student-por.csv  univariate_MathData_2.csv\n",
            "student-merge.R  student.txt\n"
          ],
          "name": "stdout"
        }
      ]
    },
    {
      "cell_type": "markdown",
      "metadata": {
        "id": "ImV3p6AKxszU"
      },
      "source": [
        "## Data visualization"
      ]
    },
    {
      "cell_type": "code",
      "metadata": {
        "colab": {
          "base_uri": "https://localhost:8080/",
          "height": 153
        },
        "id": "RqumcsZLxq4v",
        "outputId": "fce7d934-dc57-4aca-97c5-d8f16b2cf9f7"
      },
      "source": [
        "import seaborn as sns\n",
        "sns.palplot(sns.color_palette('PuOr')) #Purple to Orange colors\n",
        "pal = sns.color_palette('PuOr', 6) #print 6 color shades from Purple to Orange\n",
        "pal.as_hex() #set hex code values for colors\n",
        "\n",
        "import matplotlib.pyplot as plt\n",
        "plt.style.use(['seaborn'])\n",
        "sns_colors = ['#c6690c', '#664697'] #orange Purple hex codes\n",
        "sns.set_palette(sns_colors) #set the palette as sns_colors \n",
        "sns.palplot(sns.color_palette(sns_colors)) #plot the color codes"
      ],
      "execution_count": null,
      "outputs": [
        {
          "output_type": "display_data",
          "data": {
            "image/png": "[encoded data removed]",
            "text/plain": [
              "<Figure size 432x72 with 1 Axes>"
            ]
          },
          "metadata": {
            "tags": []
          }
        },
        {
          "output_type": "display_data",
          "data": {
            "image/png": "[encoded data removed]",
            "text/plain": [
              "<Figure size 144x72 with 1 Axes>"
            ]
          },
          "metadata": {
            "tags": []
          }
        }
      ]
    },
    {
      "cell_type": "code",
      "metadata": {
        "colab": {
          "base_uri": "https://localhost:8080/"
        },
        "id": "A6MT5E8Fy7MZ",
        "outputId": "e616c25d-4c69-4179-ef93-2b3139564aec"
      },
      "source": [
        "uniMathData.columns #columns in the dataframe"
      ],
      "execution_count": null,
      "outputs": [
        {
          "output_type": "execute_result",
          "data": {
            "text/plain": [
              "Index(['G1', 'G3'], dtype='object')"
            ]
          },
          "metadata": {
            "tags": []
          },
          "execution_count": 15
        }
      ]
    },
    {
      "cell_type": "code",
      "metadata": {
        "colab": {
          "base_uri": "https://localhost:8080/",
          "height": 392
        },
        "id": "PrsTwdHHzBbk",
        "outputId": "1612e28d-7a08-4861-8d83-754bf1a54b92"
      },
      "source": [
        "#pairplot for all the values\n",
        "\n",
        "sns.pairplot(uniMathData,\n",
        "             x_vars = ['G1', 'G3'],\n",
        "             y_vars =  ['G1', 'G3'],\n",
        "       diag_kind='kde'\n",
        "             )"
      ],
      "execution_count": null,
      "outputs": [
        {
          "output_type": "execute_result",
          "data": {
            "text/plain": [
              "<seaborn.axisgrid.PairGrid at 0x7f86c9326f90>"
            ]
          },
          "metadata": {
            "tags": []
          },
          "execution_count": 16
        },
        {
          "output_type": "display_data",
          "data": {
            "image/png": "[encoded data removed]",
            "text/plain": [
              "<Figure size 360x360 with 6 Axes>"
            ]
          },
          "metadata": {
            "tags": []
          }
        }
      ]
    },
    {
      "cell_type": "markdown",
      "metadata": {
        "id": "Klm33YcpKZkl"
      },
      "source": [
        "## Data Splits"
      ]
    },
    {
      "cell_type": "code",
      "metadata": {
        "colab": {
          "base_uri": "https://localhost:8080/"
        },
        "id": "UwrSOCKS1NhN",
        "outputId": "4302bb7a-3594-41c9-8afb-b8046277201a"
      },
      "source": [
        "#80-20 train-test percent split\n",
        "\n",
        "trainDataset = uniMathData.sample(frac=0.8, random_state=0) \n",
        "testDataset = uniMathData.drop(trainDataset.index)\n",
        "\n",
        "print(trainDataset.head())\n",
        "print(testDataset.head())"
      ],
      "execution_count": null,
      "outputs": [
        {
          "output_type": "stream",
          "text": [
            "     G1  G3\n",
            "329  14  14\n",
            "318  11  10\n",
            "317   9   9\n",
            "65   16  15\n",
            "59   15  16\n",
            "    G1  G3\n",
            "9   14  15\n",
            "25   6   8\n",
            "28  11  11\n",
            "31  17  17\n",
            "32  17  16\n"
          ],
          "name": "stdout"
        }
      ]
    },
    {
      "cell_type": "code",
      "metadata": {
        "colab": {
          "base_uri": "https://localhost:8080/"
        },
        "id": "YWO2xRV53wV-",
        "outputId": "d89b4d7c-0b3f-47de-f006-a7a690a480a3"
      },
      "source": [
        "print(trainDataset.shape)\n",
        "print(testDataset.shape)"
      ],
      "execution_count": null,
      "outputs": [
        {
          "output_type": "stream",
          "text": [
            "(316, 2)\n",
            "(79, 2)\n"
          ],
          "name": "stdout"
        }
      ]
    },
    {
      "cell_type": "code",
      "metadata": {
        "colab": {
          "base_uri": "https://localhost:8080/"
        },
        "id": "OmDTbvMC32hg",
        "outputId": "aa76f9eb-a38c-4f50-bf52-a0840b55586a"
      },
      "source": [
        "#copy the trainDataset dataframe for getting the features\n",
        "\n",
        "trainFeatures = trainDataset.copy()\n",
        "testFeatures = testDataset.copy()\n",
        "\n",
        "print(trainFeatures.head())\n",
        "print(testFeatures.head())"
      ],
      "execution_count": null,
      "outputs": [
        {
          "output_type": "stream",
          "text": [
            "     G1  G3\n",
            "329  14  14\n",
            "318  11  10\n",
            "317   9   9\n",
            "65   16  15\n",
            "59   15  16\n",
            "    G1  G3\n",
            "9   14  15\n",
            "25   6   8\n",
            "28  11  11\n",
            "31  17  17\n",
            "32  17  16\n"
          ],
          "name": "stdout"
        }
      ]
    },
    {
      "cell_type": "code",
      "metadata": {
        "colab": {
          "base_uri": "https://localhost:8080/"
        },
        "id": "jSR0_uni4ayh",
        "outputId": "1ecdb478-159d-474b-ec0a-aaec449e3dc2"
      },
      "source": [
        "#removing the G3 column and saving it into the labels variable\n",
        "\n",
        "trainLabels = trainFeatures.pop('G3')\n",
        "testLabels = testFeatures.pop('G3')\n",
        "\n",
        "print(trainLabels.head())\n",
        "print(testLabels.head())"
      ],
      "execution_count": null,
      "outputs": [
        {
          "output_type": "stream",
          "text": [
            "329    14\n",
            "318    10\n",
            "317     9\n",
            "65     15\n",
            "59     16\n",
            "Name: G3, dtype: int64\n",
            "9     15\n",
            "25     8\n",
            "28    11\n",
            "31    17\n",
            "32    16\n",
            "Name: G3, dtype: int64\n"
          ],
          "name": "stdout"
        }
      ]
    },
    {
      "cell_type": "code",
      "metadata": {
        "colab": {
          "base_uri": "https://localhost:8080/"
        },
        "id": "HnGSqb-q4wk8",
        "outputId": "936da3d4-a164-49aa-eed1-183bc69065dd"
      },
      "source": [
        "print(trainFeatures.head())\n",
        "print(testFeatures.head())"
      ],
      "execution_count": null,
      "outputs": [
        {
          "output_type": "stream",
          "text": [
            "     G1\n",
            "329  14\n",
            "318  11\n",
            "317   9\n",
            "65   16\n",
            "59   15\n",
            "    G1\n",
            "9   14\n",
            "25   6\n",
            "28  11\n",
            "31  17\n",
            "32  17\n"
          ],
          "name": "stdout"
        }
      ]
    },
    {
      "cell_type": "code",
      "metadata": {
        "id": "XPTSq34jk4o_"
      },
      "source": [
        "# univariate -> num(features) = 1\n",
        "# multvariate -> num(features) > 1 = 11\n",
        "\n",
        "\n",
        "model = tf.keras.Sequential([\n",
        "                             tf.keras.layers.Dense(1)\n",
        "\n",
        "])"
      ],
      "execution_count": null,
      "outputs": []
    },
    {
      "cell_type": "code",
      "metadata": {
        "id": "4C4GKBdE6iCE"
      },
      "source": [
        "model.compile(\n",
        "    loss = 'mean_absolute_error',\n",
        "    optimizer = tf.keras.optimizers.Adam(0.001),\n",
        "    metrics = ['mae', 'mse']\n",
        ")"
      ],
      "execution_count": null,
      "outputs": []
    },
    {
      "cell_type": "code",
      "metadata": {
        "colab": {
          "base_uri": "https://localhost:8080/"
        },
        "id": "d_A7DrhB6zvm",
        "outputId": "acaef313-e25d-4ba9-b849-f31a25aeeb8c"
      },
      "source": [
        "numEpochs = 200\n",
        "history = model.fit(x = trainFeatures, y = trainLabels, validation_data = (testFeatures, testLabels), epochs = numEpochs)"
      ],
      "execution_count": null,
      "outputs": [
        {
          "output_type": "stream",
          "text": [
            "Epoch 1/200\n",
            "10/10 [==============================] - 1s 37ms/step - loss: 3.8698 - mae: 3.8698 - mse: 17.7214 - val_loss: 3.7348 - val_mae: 3.7348 - val_mse: 15.9073\n",
            "Epoch 2/200\n",
            "10/10 [==============================] - 0s 3ms/step - loss: 3.7712 - mae: 3.7712 - mse: 16.9861 - val_loss: 3.6287 - val_mae: 3.6287 - val_mse: 15.1260\n",
            "Epoch 3/200\n",
            "10/10 [==============================] - 0s 3ms/step - loss: 3.6738 - mae: 3.6738 - mse: 16.3001 - val_loss: 3.5220 - val_mae: 3.5220 - val_mse: 14.3735\n",
            "Epoch 4/200\n",
            "10/10 [==============================] - 0s 3ms/step - loss: 3.5761 - mae: 3.5761 - mse: 15.6289 - val_loss: 3.4157 - val_mae: 3.4157 - val_mse: 13.6553\n",
            "Epoch 5/200\n",
            "10/10 [==============================] - 0s 4ms/step - loss: 3.4800 - mae: 3.4800 - mse: 14.9853 - val_loss: 3.3094 - val_mae: 3.3094 - val_mse: 12.9697\n",
            "Epoch 6/200\n",
            "10/10 [==============================] - 0s 4ms/step - loss: 3.3825 - mae: 3.3825 - mse: 14.3612 - val_loss: 3.2046 - val_mae: 3.2046 - val_mse: 12.3260\n",
            "Epoch 7/200\n",
            "10/10 [==============================] - 0s 4ms/step - loss: 3.2902 - mae: 3.2902 - mse: 13.8018 - val_loss: 3.0984 - val_mae: 3.0984 - val_mse: 11.7054\n",
            "Epoch 8/200\n",
            "10/10 [==============================] - 0s 4ms/step - loss: 3.1969 - mae: 3.1969 - mse: 13.2541 - val_loss: 2.9937 - val_mae: 2.9937 - val_mse: 11.1168\n",
            "Epoch 9/200\n",
            "10/10 [==============================] - 0s 4ms/step - loss: 3.1017 - mae: 3.1017 - mse: 12.7255 - val_loss: 2.8926 - val_mae: 2.8926 - val_mse: 10.5694\n",
            "Epoch 10/200\n",
            "10/10 [==============================] - 0s 4ms/step - loss: 3.0114 - mae: 3.0114 - mse: 12.2432 - val_loss: 2.7906 - val_mae: 2.7906 - val_mse: 10.0490\n",
            "Epoch 11/200\n",
            "10/10 [==============================] - 0s 4ms/step - loss: 2.9198 - mae: 2.9198 - mse: 11.7728 - val_loss: 2.6911 - val_mae: 2.6911 - val_mse: 9.5725\n",
            "Epoch 12/200\n",
            "10/10 [==============================] - 0s 3ms/step - loss: 2.8328 - mae: 2.8328 - mse: 11.3513 - val_loss: 2.5923 - val_mae: 2.5923 - val_mse: 9.1289\n",
            "Epoch 13/200\n",
            "10/10 [==============================] - 0s 3ms/step - loss: 2.7477 - mae: 2.7477 - mse: 10.9644 - val_loss: 2.4971 - val_mae: 2.4971 - val_mse: 8.7195\n",
            "Epoch 14/200\n",
            "10/10 [==============================] - 0s 3ms/step - loss: 2.6659 - mae: 2.6659 - mse: 10.5899 - val_loss: 2.4031 - val_mae: 2.4031 - val_mse: 8.3430\n",
            "Epoch 15/200\n",
            "10/10 [==============================] - 0s 4ms/step - loss: 2.5870 - mae: 2.5870 - mse: 10.2665 - val_loss: 2.3081 - val_mae: 2.3081 - val_mse: 7.9917\n",
            "Epoch 16/200\n",
            "10/10 [==============================] - 0s 3ms/step - loss: 2.5075 - mae: 2.5075 - mse: 9.9525 - val_loss: 2.2219 - val_mae: 2.2219 - val_mse: 7.6889\n",
            "Epoch 17/200\n",
            "10/10 [==============================] - 0s 3ms/step - loss: 2.4403 - mae: 2.4403 - mse: 9.6914 - val_loss: 2.1371 - val_mae: 2.1371 - val_mse: 7.4140\n",
            "Epoch 18/200\n",
            "10/10 [==============================] - 0s 4ms/step - loss: 2.3725 - mae: 2.3725 - mse: 9.4417 - val_loss: 2.0598 - val_mae: 2.0598 - val_mse: 7.1808\n",
            "Epoch 19/200\n",
            "10/10 [==============================] - 0s 4ms/step - loss: 2.3130 - mae: 2.3130 - mse: 9.2483 - val_loss: 1.9822 - val_mae: 1.9822 - val_mse: 6.9646\n",
            "Epoch 20/200\n",
            "10/10 [==============================] - 0s 4ms/step - loss: 2.2519 - mae: 2.2519 - mse: 9.0420 - val_loss: 1.9080 - val_mae: 1.9080 - val_mse: 6.7750\n",
            "Epoch 21/200\n",
            "10/10 [==============================] - 0s 3ms/step - loss: 2.1943 - mae: 2.1943 - mse: 8.8715 - val_loss: 1.8400 - val_mae: 1.8400 - val_mse: 6.6123\n",
            "Epoch 22/200\n",
            "10/10 [==============================] - 0s 4ms/step - loss: 2.1432 - mae: 2.1432 - mse: 8.7247 - val_loss: 1.7800 - val_mae: 1.7800 - val_mse: 6.4813\n",
            "Epoch 23/200\n",
            "10/10 [==============================] - 0s 3ms/step - loss: 2.1034 - mae: 2.1034 - mse: 8.6017 - val_loss: 1.7274 - val_mae: 1.7274 - val_mse: 6.3743\n",
            "Epoch 24/200\n",
            "10/10 [==============================] - 0s 3ms/step - loss: 2.0699 - mae: 2.0699 - mse: 8.5366 - val_loss: 1.6885 - val_mae: 1.6885 - val_mse: 6.2866\n",
            "Epoch 25/200\n",
            "10/10 [==============================] - 0s 4ms/step - loss: 2.0381 - mae: 2.0381 - mse: 8.4472 - val_loss: 1.6594 - val_mae: 1.6594 - val_mse: 6.2194\n",
            "Epoch 26/200\n",
            "10/10 [==============================] - 0s 5ms/step - loss: 2.0127 - mae: 2.0127 - mse: 8.3914 - val_loss: 1.6368 - val_mae: 1.6368 - val_mse: 6.1680\n",
            "Epoch 27/200\n",
            "10/10 [==============================] - 0s 4ms/step - loss: 1.9915 - mae: 1.9915 - mse: 8.3390 - val_loss: 1.6207 - val_mae: 1.6207 - val_mse: 6.1312\n",
            "Epoch 28/200\n",
            "10/10 [==============================] - 0s 4ms/step - loss: 1.9759 - mae: 1.9759 - mse: 8.3016 - val_loss: 1.6120 - val_mae: 1.6120 - val_mse: 6.1050\n",
            "Epoch 29/200\n",
            "10/10 [==============================] - 0s 3ms/step - loss: 1.9649 - mae: 1.9649 - mse: 8.2805 - val_loss: 1.6075 - val_mae: 1.6075 - val_mse: 6.0858\n",
            "Epoch 30/200\n",
            "10/10 [==============================] - 0s 4ms/step - loss: 1.9545 - mae: 1.9545 - mse: 8.2579 - val_loss: 1.6040 - val_mae: 1.6040 - val_mse: 6.0725\n",
            "Epoch 31/200\n",
            "10/10 [==============================] - 0s 4ms/step - loss: 1.9442 - mae: 1.9442 - mse: 8.2531 - val_loss: 1.6018 - val_mae: 1.6018 - val_mse: 6.0641\n",
            "Epoch 32/200\n",
            "10/10 [==============================] - 0s 3ms/step - loss: 1.9344 - mae: 1.9344 - mse: 8.2385 - val_loss: 1.6002 - val_mae: 1.6002 - val_mse: 6.0600\n",
            "Epoch 33/200\n",
            "10/10 [==============================] - 0s 4ms/step - loss: 1.9238 - mae: 1.9238 - mse: 8.2395 - val_loss: 1.5987 - val_mae: 1.5987 - val_mse: 6.0606\n",
            "Epoch 34/200\n",
            "10/10 [==============================] - 0s 3ms/step - loss: 1.9131 - mae: 1.9131 - mse: 8.2255 - val_loss: 1.5973 - val_mae: 1.5973 - val_mse: 6.0651\n",
            "Epoch 35/200\n",
            "10/10 [==============================] - 0s 4ms/step - loss: 1.9035 - mae: 1.9035 - mse: 8.2275 - val_loss: 1.5957 - val_mae: 1.5957 - val_mse: 6.0749\n",
            "Epoch 36/200\n",
            "10/10 [==============================] - 0s 4ms/step - loss: 1.8921 - mae: 1.8921 - mse: 8.2318 - val_loss: 1.5942 - val_mae: 1.5942 - val_mse: 6.0877\n",
            "Epoch 37/200\n",
            "10/10 [==============================] - 0s 4ms/step - loss: 1.8825 - mae: 1.8825 - mse: 8.2443 - val_loss: 1.5931 - val_mae: 1.5931 - val_mse: 6.1065\n",
            "Epoch 38/200\n",
            "10/10 [==============================] - 0s 4ms/step - loss: 1.8734 - mae: 1.8734 - mse: 8.2578 - val_loss: 1.5924 - val_mae: 1.5924 - val_mse: 6.1312\n",
            "Epoch 39/200\n",
            "10/10 [==============================] - 0s 4ms/step - loss: 1.8639 - mae: 1.8639 - mse: 8.2789 - val_loss: 1.5926 - val_mae: 1.5926 - val_mse: 6.1591\n",
            "Epoch 40/200\n",
            "10/10 [==============================] - 0s 4ms/step - loss: 1.8558 - mae: 1.8558 - mse: 8.3019 - val_loss: 1.5941 - val_mae: 1.5941 - val_mse: 6.1870\n",
            "Epoch 41/200\n",
            "10/10 [==============================] - 0s 4ms/step - loss: 1.8508 - mae: 1.8508 - mse: 8.3207 - val_loss: 1.5966 - val_mae: 1.5966 - val_mse: 6.2158\n",
            "Epoch 42/200\n",
            "10/10 [==============================] - 0s 4ms/step - loss: 1.8469 - mae: 1.8469 - mse: 8.3397 - val_loss: 1.5991 - val_mae: 1.5991 - val_mse: 6.2334\n",
            "Epoch 43/200\n",
            "10/10 [==============================] - 0s 5ms/step - loss: 1.8462 - mae: 1.8462 - mse: 8.3543 - val_loss: 1.6026 - val_mae: 1.6026 - val_mse: 6.2489\n",
            "Epoch 44/200\n",
            "10/10 [==============================] - 0s 6ms/step - loss: 1.8456 - mae: 1.8456 - mse: 8.3617 - val_loss: 1.6040 - val_mae: 1.6040 - val_mse: 6.2553\n",
            "Epoch 45/200\n",
            "10/10 [==============================] - 0s 4ms/step - loss: 1.8460 - mae: 1.8460 - mse: 8.3688 - val_loss: 1.6055 - val_mae: 1.6055 - val_mse: 6.2615\n",
            "Epoch 46/200\n",
            "10/10 [==============================] - 0s 6ms/step - loss: 1.8458 - mae: 1.8458 - mse: 8.3692 - val_loss: 1.6045 - val_mae: 1.6045 - val_mse: 6.2573\n",
            "Epoch 47/200\n",
            "10/10 [==============================] - 0s 4ms/step - loss: 1.8455 - mae: 1.8455 - mse: 8.3648 - val_loss: 1.6036 - val_mae: 1.6036 - val_mse: 6.2529\n",
            "Epoch 48/200\n",
            "10/10 [==============================] - 0s 3ms/step - loss: 1.8455 - mae: 1.8455 - mse: 8.3621 - val_loss: 1.6032 - val_mae: 1.6032 - val_mse: 6.2510\n",
            "Epoch 49/200\n",
            "10/10 [==============================] - 0s 4ms/step - loss: 1.8455 - mae: 1.8455 - mse: 8.3634 - val_loss: 1.6040 - val_mae: 1.6040 - val_mse: 6.2543\n",
            "Epoch 50/200\n",
            "10/10 [==============================] - 0s 3ms/step - loss: 1.8454 - mae: 1.8454 - mse: 8.3634 - val_loss: 1.6037 - val_mae: 1.6037 - val_mse: 6.2530\n",
            "Epoch 51/200\n",
            "10/10 [==============================] - 0s 3ms/step - loss: 1.8454 - mae: 1.8454 - mse: 8.3629 - val_loss: 1.6036 - val_mae: 1.6036 - val_mse: 6.2520\n",
            "Epoch 52/200\n",
            "10/10 [==============================] - 0s 4ms/step - loss: 1.8454 - mae: 1.8454 - mse: 8.3609 - val_loss: 1.6034 - val_mae: 1.6034 - val_mse: 6.2509\n",
            "Epoch 53/200\n",
            "10/10 [==============================] - 0s 7ms/step - loss: 1.8455 - mae: 1.8455 - mse: 8.3607 - val_loss: 1.6031 - val_mae: 1.6031 - val_mse: 6.2493\n",
            "Epoch 54/200\n",
            "10/10 [==============================] - 0s 4ms/step - loss: 1.8454 - mae: 1.8454 - mse: 8.3629 - val_loss: 1.6047 - val_mae: 1.6047 - val_mse: 6.2562\n",
            "Epoch 55/200\n",
            "10/10 [==============================] - 0s 4ms/step - loss: 1.8455 - mae: 1.8455 - mse: 8.3636 - val_loss: 1.6032 - val_mae: 1.6032 - val_mse: 6.2492\n",
            "Epoch 56/200\n",
            "10/10 [==============================] - 0s 6ms/step - loss: 1.8453 - mae: 1.8453 - mse: 8.3630 - val_loss: 1.6045 - val_mae: 1.6045 - val_mse: 6.2549\n",
            "Epoch 57/200\n",
            "10/10 [==============================] - 0s 3ms/step - loss: 1.8452 - mae: 1.8452 - mse: 8.3638 - val_loss: 1.6039 - val_mae: 1.6039 - val_mse: 6.2521\n",
            "Epoch 58/200\n",
            "10/10 [==============================] - 0s 3ms/step - loss: 1.8459 - mae: 1.8459 - mse: 8.3589 - val_loss: 1.6013 - val_mae: 1.6013 - val_mse: 6.2398\n",
            "Epoch 59/200\n",
            "10/10 [==============================] - 0s 3ms/step - loss: 1.8453 - mae: 1.8453 - mse: 8.3567 - val_loss: 1.6030 - val_mae: 1.6030 - val_mse: 6.2473\n",
            "Epoch 60/200\n",
            "10/10 [==============================] - 0s 6ms/step - loss: 1.8450 - mae: 1.8450 - mse: 8.3602 - val_loss: 1.6036 - val_mae: 1.6036 - val_mse: 6.2500\n",
            "Epoch 61/200\n",
            "10/10 [==============================] - 0s 3ms/step - loss: 1.8449 - mae: 1.8449 - mse: 8.3601 - val_loss: 1.6032 - val_mae: 1.6032 - val_mse: 6.2478\n",
            "Epoch 62/200\n",
            "10/10 [==============================] - 0s 3ms/step - loss: 1.8449 - mae: 1.8449 - mse: 8.3589 - val_loss: 1.6030 - val_mae: 1.6030 - val_mse: 6.2470\n",
            "Epoch 63/200\n",
            "10/10 [==============================] - 0s 3ms/step - loss: 1.8449 - mae: 1.8449 - mse: 8.3578 - val_loss: 1.6030 - val_mae: 1.6030 - val_mse: 6.2467\n",
            "Epoch 64/200\n",
            "10/10 [==============================] - 0s 4ms/step - loss: 1.8453 - mae: 1.8453 - mse: 8.3632 - val_loss: 1.6049 - val_mae: 1.6049 - val_mse: 6.2544\n",
            "Epoch 65/200\n",
            "10/10 [==============================] - 0s 3ms/step - loss: 1.8449 - mae: 1.8449 - mse: 8.3597 - val_loss: 1.6028 - val_mae: 1.6028 - val_mse: 6.2451\n",
            "Epoch 66/200\n",
            "10/10 [==============================] - 0s 4ms/step - loss: 1.8447 - mae: 1.8447 - mse: 8.3558 - val_loss: 1.6028 - val_mae: 1.6028 - val_mse: 6.2448\n",
            "Epoch 67/200\n",
            "10/10 [==============================] - 0s 4ms/step - loss: 1.8446 - mae: 1.8446 - mse: 8.3577 - val_loss: 1.6034 - val_mae: 1.6034 - val_mse: 6.2472\n",
            "Epoch 68/200\n",
            "10/10 [==============================] - 0s 4ms/step - loss: 1.8447 - mae: 1.8447 - mse: 8.3599 - val_loss: 1.6032 - val_mae: 1.6032 - val_mse: 6.2464\n",
            "Epoch 69/200\n",
            "10/10 [==============================] - 0s 3ms/step - loss: 1.8446 - mae: 1.8446 - mse: 8.3555 - val_loss: 1.6025 - val_mae: 1.6025 - val_mse: 6.2428\n",
            "Epoch 70/200\n",
            "10/10 [==============================] - 0s 4ms/step - loss: 1.8445 - mae: 1.8445 - mse: 8.3558 - val_loss: 1.6032 - val_mae: 1.6032 - val_mse: 6.2455\n",
            "Epoch 71/200\n",
            "10/10 [==============================] - 0s 4ms/step - loss: 1.8444 - mae: 1.8444 - mse: 8.3557 - val_loss: 1.6027 - val_mae: 1.6027 - val_mse: 6.2431\n",
            "Epoch 72/200\n",
            "10/10 [==============================] - 0s 4ms/step - loss: 1.8445 - mae: 1.8445 - mse: 8.3539 - val_loss: 1.6025 - val_mae: 1.6025 - val_mse: 6.2417\n",
            "Epoch 73/200\n",
            "10/10 [==============================] - 0s 3ms/step - loss: 1.8444 - mae: 1.8444 - mse: 8.3563 - val_loss: 1.6036 - val_mae: 1.6036 - val_mse: 6.2463\n",
            "Epoch 74/200\n",
            "10/10 [==============================] - 0s 4ms/step - loss: 1.8444 - mae: 1.8444 - mse: 8.3576 - val_loss: 1.6032 - val_mae: 1.6032 - val_mse: 6.2445\n",
            "Epoch 75/200\n",
            "10/10 [==============================] - 0s 4ms/step - loss: 1.8444 - mae: 1.8444 - mse: 8.3527 - val_loss: 1.6017 - val_mae: 1.6017 - val_mse: 6.2375\n",
            "Epoch 76/200\n",
            "10/10 [==============================] - 0s 4ms/step - loss: 1.8445 - mae: 1.8445 - mse: 8.3497 - val_loss: 1.6019 - val_mae: 1.6019 - val_mse: 6.2379\n",
            "Epoch 77/200\n",
            "10/10 [==============================] - 0s 3ms/step - loss: 1.8441 - mae: 1.8441 - mse: 8.3516 - val_loss: 1.6028 - val_mae: 1.6028 - val_mse: 6.2421\n",
            "Epoch 78/200\n",
            "10/10 [==============================] - 0s 3ms/step - loss: 1.8442 - mae: 1.8442 - mse: 8.3569 - val_loss: 1.6036 - val_mae: 1.6036 - val_mse: 6.2449\n",
            "Epoch 79/200\n",
            "10/10 [==============================] - 0s 3ms/step - loss: 1.8441 - mae: 1.8441 - mse: 8.3545 - val_loss: 1.6024 - val_mae: 1.6024 - val_mse: 6.2394\n",
            "Epoch 80/200\n",
            "10/10 [==============================] - 0s 4ms/step - loss: 1.8440 - mae: 1.8440 - mse: 8.3535 - val_loss: 1.6029 - val_mae: 1.6029 - val_mse: 6.2415\n",
            "Epoch 81/200\n",
            "10/10 [==============================] - 0s 4ms/step - loss: 1.8438 - mae: 1.8438 - mse: 8.3526 - val_loss: 1.6025 - val_mae: 1.6025 - val_mse: 6.2393\n",
            "Epoch 82/200\n",
            "10/10 [==============================] - 0s 3ms/step - loss: 1.8439 - mae: 1.8439 - mse: 8.3523 - val_loss: 1.6023 - val_mae: 1.6023 - val_mse: 6.2384\n",
            "Epoch 83/200\n",
            "10/10 [==============================] - 0s 4ms/step - loss: 1.8440 - mae: 1.8440 - mse: 8.3542 - val_loss: 1.6038 - val_mae: 1.6038 - val_mse: 6.2444\n",
            "Epoch 84/200\n",
            "10/10 [==============================] - 0s 5ms/step - loss: 1.8437 - mae: 1.8437 - mse: 8.3535 - val_loss: 1.6025 - val_mae: 1.6025 - val_mse: 6.2385\n",
            "Epoch 85/200\n",
            "10/10 [==============================] - 0s 4ms/step - loss: 1.8441 - mae: 1.8441 - mse: 8.3479 - val_loss: 1.6005 - val_mae: 1.6005 - val_mse: 6.2291\n",
            "Epoch 86/200\n",
            "10/10 [==============================] - 0s 4ms/step - loss: 1.8439 - mae: 1.8439 - mse: 8.3434 - val_loss: 1.6005 - val_mae: 1.6005 - val_mse: 6.2286\n",
            "Epoch 87/200\n",
            "10/10 [==============================] - 0s 3ms/step - loss: 1.8437 - mae: 1.8437 - mse: 8.3464 - val_loss: 1.6028 - val_mae: 1.6028 - val_mse: 6.2389\n",
            "Epoch 88/200\n",
            "10/10 [==============================] - 0s 4ms/step - loss: 1.8435 - mae: 1.8435 - mse: 8.3521 - val_loss: 1.6030 - val_mae: 1.6030 - val_mse: 6.2396\n",
            "Epoch 89/200\n",
            "10/10 [==============================] - 0s 4ms/step - loss: 1.8438 - mae: 1.8438 - mse: 8.3489 - val_loss: 1.6015 - val_mae: 1.6015 - val_mse: 6.2325\n",
            "Epoch 90/200\n",
            "10/10 [==============================] - 0s 4ms/step - loss: 1.8434 - mae: 1.8434 - mse: 8.3470 - val_loss: 1.6022 - val_mae: 1.6022 - val_mse: 6.2355\n",
            "Epoch 91/200\n",
            "10/10 [==============================] - 0s 4ms/step - loss: 1.8434 - mae: 1.8434 - mse: 8.3520 - val_loss: 1.6033 - val_mae: 1.6033 - val_mse: 6.2398\n",
            "Epoch 92/200\n",
            "10/10 [==============================] - 0s 4ms/step - loss: 1.8435 - mae: 1.8435 - mse: 8.3527 - val_loss: 1.6030 - val_mae: 1.6030 - val_mse: 6.2383\n",
            "Epoch 93/200\n",
            "10/10 [==============================] - 0s 3ms/step - loss: 1.8432 - mae: 1.8432 - mse: 8.3479 - val_loss: 1.6015 - val_mae: 1.6015 - val_mse: 6.2310\n",
            "Epoch 94/200\n",
            "10/10 [==============================] - 0s 4ms/step - loss: 1.8433 - mae: 1.8433 - mse: 8.3444 - val_loss: 1.6013 - val_mae: 1.6013 - val_mse: 6.2301\n",
            "Epoch 95/200\n",
            "10/10 [==============================] - 0s 4ms/step - loss: 1.8433 - mae: 1.8433 - mse: 8.3460 - val_loss: 1.6029 - val_mae: 1.6029 - val_mse: 6.2370\n",
            "Epoch 96/200\n",
            "10/10 [==============================] - 0s 4ms/step - loss: 1.8431 - mae: 1.8431 - mse: 8.3493 - val_loss: 1.6022 - val_mae: 1.6022 - val_mse: 6.2336\n",
            "Epoch 97/200\n",
            "10/10 [==============================] - 0s 3ms/step - loss: 1.8436 - mae: 1.8436 - mse: 8.3447 - val_loss: 1.6009 - val_mae: 1.6009 - val_mse: 6.2273\n",
            "Epoch 98/200\n",
            "10/10 [==============================] - 0s 4ms/step - loss: 1.8430 - mae: 1.8430 - mse: 8.3463 - val_loss: 1.6026 - val_mae: 1.6026 - val_mse: 6.2345\n",
            "Epoch 99/200\n",
            "10/10 [==============================] - 0s 4ms/step - loss: 1.8429 - mae: 1.8429 - mse: 8.3457 - val_loss: 1.6011 - val_mae: 1.6011 - val_mse: 6.2276\n",
            "Epoch 100/200\n",
            "10/10 [==============================] - 0s 4ms/step - loss: 1.8429 - mae: 1.8429 - mse: 8.3415 - val_loss: 1.6008 - val_mae: 1.6008 - val_mse: 6.2258\n",
            "Epoch 101/200\n",
            "10/10 [==============================] - 0s 4ms/step - loss: 1.8429 - mae: 1.8429 - mse: 8.3456 - val_loss: 1.6032 - val_mae: 1.6032 - val_mse: 6.2361\n",
            "Epoch 102/200\n",
            "10/10 [==============================] - 0s 4ms/step - loss: 1.8428 - mae: 1.8428 - mse: 8.3483 - val_loss: 1.6022 - val_mae: 1.6022 - val_mse: 6.2316\n",
            "Epoch 103/200\n",
            "10/10 [==============================] - 0s 4ms/step - loss: 1.8426 - mae: 1.8426 - mse: 8.3435 - val_loss: 1.6016 - val_mae: 1.6016 - val_mse: 6.2288\n",
            "Epoch 104/200\n",
            "10/10 [==============================] - 0s 4ms/step - loss: 1.8426 - mae: 1.8426 - mse: 8.3430 - val_loss: 1.6019 - val_mae: 1.6019 - val_mse: 6.2297\n",
            "Epoch 105/200\n",
            "10/10 [==============================] - 0s 5ms/step - loss: 1.8424 - mae: 1.8424 - mse: 8.3439 - val_loss: 1.6012 - val_mae: 1.6012 - val_mse: 6.2261\n",
            "Epoch 106/200\n",
            "10/10 [==============================] - 0s 5ms/step - loss: 1.8425 - mae: 1.8425 - mse: 8.3429 - val_loss: 1.6014 - val_mae: 1.6014 - val_mse: 6.2266\n",
            "Epoch 107/200\n",
            "10/10 [==============================] - 0s 4ms/step - loss: 1.8424 - mae: 1.8424 - mse: 8.3422 - val_loss: 1.6015 - val_mae: 1.6015 - val_mse: 6.2269\n",
            "Epoch 108/200\n",
            "10/10 [==============================] - 0s 4ms/step - loss: 1.8424 - mae: 1.8424 - mse: 8.3441 - val_loss: 1.6026 - val_mae: 1.6026 - val_mse: 6.2311\n",
            "Epoch 109/200\n",
            "10/10 [==============================] - 0s 4ms/step - loss: 1.8423 - mae: 1.8423 - mse: 8.3419 - val_loss: 1.6006 - val_mae: 1.6006 - val_mse: 6.2219\n",
            "Epoch 110/200\n",
            "10/10 [==============================] - 0s 4ms/step - loss: 1.8422 - mae: 1.8422 - mse: 8.3373 - val_loss: 1.6005 - val_mae: 1.6005 - val_mse: 6.2214\n",
            "Epoch 111/200\n",
            "10/10 [==============================] - 0s 4ms/step - loss: 1.8421 - mae: 1.8421 - mse: 8.3384 - val_loss: 1.6016 - val_mae: 1.6016 - val_mse: 6.2259\n",
            "Epoch 112/200\n",
            "10/10 [==============================] - 0s 4ms/step - loss: 1.8422 - mae: 1.8422 - mse: 8.3395 - val_loss: 1.6013 - val_mae: 1.6013 - val_mse: 6.2243\n",
            "Epoch 113/200\n",
            "10/10 [==============================] - 0s 5ms/step - loss: 1.8423 - mae: 1.8423 - mse: 8.3447 - val_loss: 1.6034 - val_mae: 1.6034 - val_mse: 6.2330\n",
            "Epoch 114/200\n",
            "10/10 [==============================] - 0s 4ms/step - loss: 1.8419 - mae: 1.8419 - mse: 8.3452 - val_loss: 1.6018 - val_mae: 1.6018 - val_mse: 6.2258\n",
            "Epoch 115/200\n",
            "10/10 [==============================] - 0s 4ms/step - loss: 1.8419 - mae: 1.8419 - mse: 8.3359 - val_loss: 1.5992 - val_mae: 1.5992 - val_mse: 6.2134\n",
            "Epoch 116/200\n",
            "10/10 [==============================] - 0s 4ms/step - loss: 1.8419 - mae: 1.8419 - mse: 8.3320 - val_loss: 1.6000 - val_mae: 1.6000 - val_mse: 6.2169\n",
            "Epoch 117/200\n",
            "10/10 [==============================] - 0s 4ms/step - loss: 1.8418 - mae: 1.8418 - mse: 8.3334 - val_loss: 1.6005 - val_mae: 1.6005 - val_mse: 6.2188\n",
            "Epoch 118/200\n",
            "10/10 [==============================] - 0s 4ms/step - loss: 1.8415 - mae: 1.8415 - mse: 8.3363 - val_loss: 1.6021 - val_mae: 1.6021 - val_mse: 6.2257\n",
            "Epoch 119/200\n",
            "10/10 [==============================] - 0s 4ms/step - loss: 1.8417 - mae: 1.8417 - mse: 8.3418 - val_loss: 1.6022 - val_mae: 1.6022 - val_mse: 6.2258\n",
            "Epoch 120/200\n",
            "10/10 [==============================] - 0s 4ms/step - loss: 1.8421 - mae: 1.8421 - mse: 8.3373 - val_loss: 1.5997 - val_mae: 1.5997 - val_mse: 6.2140\n",
            "Epoch 121/200\n",
            "10/10 [==============================] - 0s 4ms/step - loss: 1.8413 - mae: 1.8413 - mse: 8.3345 - val_loss: 1.6017 - val_mae: 1.6017 - val_mse: 6.2229\n",
            "Epoch 122/200\n",
            "10/10 [==============================] - 0s 5ms/step - loss: 1.8414 - mae: 1.8414 - mse: 8.3371 - val_loss: 1.6010 - val_mae: 1.6010 - val_mse: 6.2198\n",
            "Epoch 123/200\n",
            "10/10 [==============================] - 0s 4ms/step - loss: 1.8413 - mae: 1.8413 - mse: 8.3362 - val_loss: 1.6013 - val_mae: 1.6013 - val_mse: 6.2205\n",
            "Epoch 124/200\n",
            "10/10 [==============================] - 0s 4ms/step - loss: 1.8415 - mae: 1.8415 - mse: 8.3307 - val_loss: 1.5991 - val_mae: 1.5991 - val_mse: 6.2103\n",
            "Epoch 125/200\n",
            "10/10 [==============================] - 0s 4ms/step - loss: 1.8412 - mae: 1.8412 - mse: 8.3297 - val_loss: 1.5998 - val_mae: 1.5998 - val_mse: 6.2131\n",
            "Epoch 126/200\n",
            "10/10 [==============================] - 0s 4ms/step - loss: 1.8410 - mae: 1.8410 - mse: 8.3329 - val_loss: 1.6009 - val_mae: 1.6009 - val_mse: 6.2177\n",
            "Epoch 127/200\n",
            "10/10 [==============================] - 0s 4ms/step - loss: 1.8411 - mae: 1.8411 - mse: 8.3364 - val_loss: 1.6007 - val_mae: 1.6007 - val_mse: 6.2166\n",
            "Epoch 128/200\n",
            "10/10 [==============================] - 0s 4ms/step - loss: 1.8409 - mae: 1.8409 - mse: 8.3313 - val_loss: 1.6000 - val_mae: 1.6000 - val_mse: 6.2130\n",
            "Epoch 129/200\n",
            "10/10 [==============================] - 0s 4ms/step - loss: 1.8408 - mae: 1.8408 - mse: 8.3318 - val_loss: 1.6005 - val_mae: 1.6005 - val_mse: 6.2151\n",
            "Epoch 130/200\n",
            "10/10 [==============================] - 0s 3ms/step - loss: 1.8412 - mae: 1.8412 - mse: 8.3382 - val_loss: 1.6022 - val_mae: 1.6022 - val_mse: 6.2218\n",
            "Epoch 131/200\n",
            "10/10 [==============================] - 0s 4ms/step - loss: 1.8409 - mae: 1.8409 - mse: 8.3353 - val_loss: 1.5996 - val_mae: 1.5996 - val_mse: 6.2100\n",
            "Epoch 132/200\n",
            "10/10 [==============================] - 0s 4ms/step - loss: 1.8407 - mae: 1.8407 - mse: 8.3286 - val_loss: 1.5997 - val_mae: 1.5997 - val_mse: 6.2100\n",
            "Epoch 133/200\n",
            "10/10 [==============================] - 0s 4ms/step - loss: 1.8405 - mae: 1.8405 - mse: 8.3285 - val_loss: 1.6010 - val_mae: 1.6010 - val_mse: 6.2156\n",
            "Epoch 134/200\n",
            "10/10 [==============================] - 0s 4ms/step - loss: 1.8405 - mae: 1.8405 - mse: 8.3319 - val_loss: 1.6007 - val_mae: 1.6007 - val_mse: 6.2137\n",
            "Epoch 135/200\n",
            "10/10 [==============================] - 0s 4ms/step - loss: 1.8406 - mae: 1.8406 - mse: 8.3287 - val_loss: 1.5993 - val_mae: 1.5993 - val_mse: 6.2070\n",
            "Epoch 136/200\n",
            "10/10 [==============================] - 0s 5ms/step - loss: 1.8405 - mae: 1.8405 - mse: 8.3308 - val_loss: 1.6008 - val_mae: 1.6008 - val_mse: 6.2136\n",
            "Epoch 137/200\n",
            "10/10 [==============================] - 0s 4ms/step - loss: 1.8401 - mae: 1.8401 - mse: 8.3287 - val_loss: 1.5996 - val_mae: 1.5996 - val_mse: 6.2078\n",
            "Epoch 138/200\n",
            "10/10 [==============================] - 0s 4ms/step - loss: 1.8401 - mae: 1.8401 - mse: 8.3277 - val_loss: 1.6003 - val_mae: 1.6003 - val_mse: 6.2110\n",
            "Epoch 139/200\n",
            "10/10 [==============================] - 0s 4ms/step - loss: 1.8400 - mae: 1.8400 - mse: 8.3276 - val_loss: 1.6000 - val_mae: 1.6000 - val_mse: 6.2092\n",
            "Epoch 140/200\n",
            "10/10 [==============================] - 0s 4ms/step - loss: 1.8401 - mae: 1.8401 - mse: 8.3287 - val_loss: 1.6002 - val_mae: 1.6002 - val_mse: 6.2094\n",
            "Epoch 141/200\n",
            "10/10 [==============================] - 0s 4ms/step - loss: 1.8400 - mae: 1.8400 - mse: 8.3260 - val_loss: 1.5999 - val_mae: 1.5999 - val_mse: 6.2076\n",
            "Epoch 142/200\n",
            "10/10 [==============================] - 0s 4ms/step - loss: 1.8401 - mae: 1.8401 - mse: 8.3244 - val_loss: 1.5998 - val_mae: 1.5998 - val_mse: 6.2072\n",
            "Epoch 143/200\n",
            "10/10 [==============================] - 0s 3ms/step - loss: 1.8401 - mae: 1.8401 - mse: 8.3306 - val_loss: 1.6017 - val_mae: 1.6017 - val_mse: 6.2146\n",
            "Epoch 144/200\n",
            "10/10 [==============================] - 0s 4ms/step - loss: 1.8400 - mae: 1.8400 - mse: 8.3277 - val_loss: 1.5983 - val_mae: 1.5983 - val_mse: 6.1993\n",
            "Epoch 145/200\n",
            "10/10 [==============================] - 0s 5ms/step - loss: 1.8398 - mae: 1.8398 - mse: 8.3193 - val_loss: 1.5984 - val_mae: 1.5984 - val_mse: 6.1994\n",
            "Epoch 146/200\n",
            "10/10 [==============================] - 0s 4ms/step - loss: 1.8395 - mae: 1.8395 - mse: 8.3205 - val_loss: 1.5996 - val_mae: 1.5996 - val_mse: 6.2047\n",
            "Epoch 147/200\n",
            "10/10 [==============================] - 0s 4ms/step - loss: 1.8395 - mae: 1.8395 - mse: 8.3268 - val_loss: 1.6013 - val_mae: 1.6013 - val_mse: 6.2117\n",
            "Epoch 148/200\n",
            "10/10 [==============================] - 0s 4ms/step - loss: 1.8395 - mae: 1.8395 - mse: 8.3264 - val_loss: 1.5989 - val_mae: 1.5989 - val_mse: 6.2006\n",
            "Epoch 149/200\n",
            "10/10 [==============================] - 0s 4ms/step - loss: 1.8393 - mae: 1.8393 - mse: 8.3219 - val_loss: 1.5996 - val_mae: 1.5996 - val_mse: 6.2034\n",
            "Epoch 150/200\n",
            "10/10 [==============================] - 0s 5ms/step - loss: 1.8394 - mae: 1.8394 - mse: 8.3216 - val_loss: 1.5997 - val_mae: 1.5997 - val_mse: 6.2037\n",
            "Epoch 151/200\n",
            "10/10 [==============================] - 0s 5ms/step - loss: 1.8393 - mae: 1.8393 - mse: 8.3202 - val_loss: 1.5982 - val_mae: 1.5982 - val_mse: 6.1964\n",
            "Epoch 152/200\n",
            "10/10 [==============================] - 0s 5ms/step - loss: 1.8391 - mae: 1.8391 - mse: 8.3181 - val_loss: 1.5992 - val_mae: 1.5992 - val_mse: 6.2004\n",
            "Epoch 153/200\n",
            "10/10 [==============================] - 0s 4ms/step - loss: 1.8392 - mae: 1.8392 - mse: 8.3240 - val_loss: 1.6008 - val_mae: 1.6008 - val_mse: 6.2070\n",
            "Epoch 154/200\n",
            "10/10 [==============================] - 0s 4ms/step - loss: 1.8395 - mae: 1.8395 - mse: 8.3206 - val_loss: 1.5977 - val_mae: 1.5977 - val_mse: 6.1928\n",
            "Epoch 155/200\n",
            "10/10 [==============================] - 0s 3ms/step - loss: 1.8391 - mae: 1.8391 - mse: 8.3205 - val_loss: 1.6005 - val_mae: 1.6005 - val_mse: 6.2050\n",
            "Epoch 156/200\n",
            "10/10 [==============================] - 0s 4ms/step - loss: 1.8387 - mae: 1.8387 - mse: 8.3225 - val_loss: 1.5991 - val_mae: 1.5991 - val_mse: 6.1987\n",
            "Epoch 157/200\n",
            "10/10 [==============================] - 0s 4ms/step - loss: 1.8386 - mae: 1.8386 - mse: 8.3174 - val_loss: 1.5986 - val_mae: 1.5986 - val_mse: 6.1958\n",
            "Epoch 158/200\n",
            "10/10 [==============================] - 0s 4ms/step - loss: 1.8391 - mae: 1.8391 - mse: 8.3139 - val_loss: 1.5975 - val_mae: 1.5975 - val_mse: 6.1903\n",
            "Epoch 159/200\n",
            "10/10 [==============================] - 0s 5ms/step - loss: 1.8385 - mae: 1.8385 - mse: 8.3179 - val_loss: 1.6007 - val_mae: 1.6007 - val_mse: 6.2043\n",
            "Epoch 160/200\n",
            "10/10 [==============================] - 0s 4ms/step - loss: 1.8389 - mae: 1.8389 - mse: 8.3261 - val_loss: 1.6006 - val_mae: 1.6006 - val_mse: 6.2035\n",
            "Epoch 161/200\n",
            "10/10 [==============================] - 0s 4ms/step - loss: 1.8383 - mae: 1.8383 - mse: 8.3179 - val_loss: 1.5977 - val_mae: 1.5977 - val_mse: 6.1903\n",
            "Epoch 162/200\n",
            "10/10 [==============================] - 0s 3ms/step - loss: 1.8384 - mae: 1.8384 - mse: 8.3107 - val_loss: 1.5972 - val_mae: 1.5972 - val_mse: 6.1872\n",
            "Epoch 163/200\n",
            "10/10 [==============================] - 0s 5ms/step - loss: 1.8382 - mae: 1.8382 - mse: 8.3118 - val_loss: 1.5986 - val_mae: 1.5986 - val_mse: 6.1935\n",
            "Epoch 164/200\n",
            "10/10 [==============================] - 0s 4ms/step - loss: 1.8388 - mae: 1.8388 - mse: 8.3231 - val_loss: 1.6001 - val_mae: 1.6001 - val_mse: 6.1997\n",
            "Epoch 165/200\n",
            "10/10 [==============================] - 0s 4ms/step - loss: 1.8379 - mae: 1.8379 - mse: 8.3154 - val_loss: 1.5979 - val_mae: 1.5979 - val_mse: 6.1898\n",
            "Epoch 166/200\n",
            "10/10 [==============================] - 0s 5ms/step - loss: 1.8380 - mae: 1.8380 - mse: 8.3108 - val_loss: 1.5975 - val_mae: 1.5975 - val_mse: 6.1873\n",
            "Epoch 167/200\n",
            "10/10 [==============================] - 0s 4ms/step - loss: 1.8379 - mae: 1.8379 - mse: 8.3128 - val_loss: 1.5986 - val_mae: 1.5986 - val_mse: 6.1920\n",
            "Epoch 168/200\n",
            "10/10 [==============================] - 0s 3ms/step - loss: 1.8378 - mae: 1.8378 - mse: 8.3114 - val_loss: 1.5982 - val_mae: 1.5982 - val_mse: 6.1900\n",
            "Epoch 169/200\n",
            "10/10 [==============================] - 0s 4ms/step - loss: 1.8378 - mae: 1.8378 - mse: 8.3145 - val_loss: 1.5992 - val_mae: 1.5992 - val_mse: 6.1939\n",
            "Epoch 170/200\n",
            "10/10 [==============================] - 0s 4ms/step - loss: 1.8383 - mae: 1.8383 - mse: 8.3084 - val_loss: 1.5969 - val_mae: 1.5969 - val_mse: 6.1830\n",
            "Epoch 171/200\n",
            "10/10 [==============================] - 0s 4ms/step - loss: 1.8374 - mae: 1.8374 - mse: 8.3100 - val_loss: 1.5997 - val_mae: 1.5997 - val_mse: 6.1950\n",
            "Epoch 172/200\n",
            "10/10 [==============================] - 0s 5ms/step - loss: 1.8376 - mae: 1.8376 - mse: 8.3163 - val_loss: 1.5991 - val_mae: 1.5991 - val_mse: 6.1922\n",
            "Epoch 173/200\n",
            "10/10 [==============================] - 0s 5ms/step - loss: 1.8375 - mae: 1.8375 - mse: 8.3118 - val_loss: 1.5969 - val_mae: 1.5969 - val_mse: 6.1817\n",
            "Epoch 174/200\n",
            "10/10 [==============================] - 0s 4ms/step - loss: 1.8373 - mae: 1.8373 - mse: 8.3088 - val_loss: 1.5982 - val_mae: 1.5982 - val_mse: 6.1874\n",
            "Epoch 175/200\n",
            "10/10 [==============================] - 0s 3ms/step - loss: 1.8374 - mae: 1.8374 - mse: 8.3080 - val_loss: 1.5972 - val_mae: 1.5972 - val_mse: 6.1827\n",
            "Epoch 176/200\n",
            "10/10 [==============================] - 0s 3ms/step - loss: 1.8374 - mae: 1.8374 - mse: 8.3100 - val_loss: 1.5997 - val_mae: 1.5997 - val_mse: 6.1932\n",
            "Epoch 177/200\n",
            "10/10 [==============================] - 0s 4ms/step - loss: 1.8371 - mae: 1.8371 - mse: 8.3121 - val_loss: 1.5968 - val_mae: 1.5968 - val_mse: 6.1798\n",
            "Epoch 178/200\n",
            "10/10 [==============================] - 0s 4ms/step - loss: 1.8371 - mae: 1.8371 - mse: 8.3042 - val_loss: 1.5980 - val_mae: 1.5980 - val_mse: 6.1851\n",
            "Epoch 179/200\n",
            "10/10 [==============================] - 0s 4ms/step - loss: 1.8370 - mae: 1.8370 - mse: 8.3117 - val_loss: 1.5989 - val_mae: 1.5989 - val_mse: 6.1885\n",
            "Epoch 180/200\n",
            "10/10 [==============================] - 0s 4ms/step - loss: 1.8367 - mae: 1.8367 - mse: 8.3081 - val_loss: 1.5975 - val_mae: 1.5975 - val_mse: 6.1821\n",
            "Epoch 181/200\n",
            "10/10 [==============================] - 0s 4ms/step - loss: 1.8372 - mae: 1.8372 - mse: 8.3004 - val_loss: 1.5965 - val_mae: 1.5965 - val_mse: 6.1770\n",
            "Epoch 182/200\n",
            "10/10 [==============================] - 0s 4ms/step - loss: 1.8366 - mae: 1.8366 - mse: 8.3032 - val_loss: 1.5973 - val_mae: 1.5973 - val_mse: 6.1805\n",
            "Epoch 183/200\n",
            "10/10 [==============================] - 0s 4ms/step - loss: 1.8368 - mae: 1.8368 - mse: 8.3089 - val_loss: 1.5973 - val_mae: 1.5973 - val_mse: 6.1800\n",
            "Epoch 184/200\n",
            "10/10 [==============================] - 0s 4ms/step - loss: 1.8364 - mae: 1.8364 - mse: 8.3050 - val_loss: 1.5974 - val_mae: 1.5974 - val_mse: 6.1799\n",
            "Epoch 185/200\n",
            "10/10 [==============================] - 0s 4ms/step - loss: 1.8366 - mae: 1.8366 - mse: 8.3012 - val_loss: 1.5971 - val_mae: 1.5971 - val_mse: 6.1785\n",
            "Epoch 186/200\n",
            "10/10 [==============================] - 0s 4ms/step - loss: 1.8361 - mae: 1.8361 - mse: 8.3047 - val_loss: 1.5984 - val_mae: 1.5984 - val_mse: 6.1835\n",
            "Epoch 187/200\n",
            "10/10 [==============================] - 0s 4ms/step - loss: 1.8363 - mae: 1.8363 - mse: 8.3080 - val_loss: 1.5973 - val_mae: 1.5973 - val_mse: 6.1783\n",
            "Epoch 188/200\n",
            "10/10 [==============================] - 0s 4ms/step - loss: 1.8364 - mae: 1.8364 - mse: 8.3054 - val_loss: 1.5983 - val_mae: 1.5983 - val_mse: 6.1824\n",
            "Epoch 189/200\n",
            "10/10 [==============================] - 0s 4ms/step - loss: 1.8365 - mae: 1.8365 - mse: 8.3068 - val_loss: 1.5959 - val_mae: 1.5959 - val_mse: 6.1708\n",
            "Epoch 190/200\n",
            "10/10 [==============================] - 0s 4ms/step - loss: 1.8362 - mae: 1.8362 - mse: 8.2955 - val_loss: 1.5968 - val_mae: 1.5968 - val_mse: 6.1747\n",
            "Epoch 191/200\n",
            "10/10 [==============================] - 0s 4ms/step - loss: 1.8360 - mae: 1.8360 - mse: 8.3049 - val_loss: 1.5972 - val_mae: 1.5972 - val_mse: 6.1763\n",
            "Epoch 192/200\n",
            "10/10 [==============================] - 0s 4ms/step - loss: 1.8357 - mae: 1.8357 - mse: 8.2996 - val_loss: 1.5965 - val_mae: 1.5965 - val_mse: 6.1729\n",
            "Epoch 193/200\n",
            "10/10 [==============================] - 0s 4ms/step - loss: 1.8356 - mae: 1.8356 - mse: 8.3002 - val_loss: 1.5973 - val_mae: 1.5973 - val_mse: 6.1759\n",
            "Epoch 194/200\n",
            "10/10 [==============================] - 0s 4ms/step - loss: 1.8357 - mae: 1.8357 - mse: 8.2977 - val_loss: 1.5962 - val_mae: 1.5962 - val_mse: 6.1706\n",
            "Epoch 195/200\n",
            "10/10 [==============================] - 0s 4ms/step - loss: 1.8354 - mae: 1.8354 - mse: 8.2994 - val_loss: 1.5969 - val_mae: 1.5969 - val_mse: 6.1734\n",
            "Epoch 196/200\n",
            "10/10 [==============================] - 0s 5ms/step - loss: 1.8353 - mae: 1.8353 - mse: 8.2984 - val_loss: 1.5972 - val_mae: 1.5972 - val_mse: 6.1746\n",
            "Epoch 197/200\n",
            "10/10 [==============================] - 0s 5ms/step - loss: 1.8353 - mae: 1.8353 - mse: 8.2980 - val_loss: 1.5970 - val_mae: 1.5970 - val_mse: 6.1733\n",
            "Epoch 198/200\n",
            "10/10 [==============================] - 0s 4ms/step - loss: 1.8351 - mae: 1.8351 - mse: 8.2979 - val_loss: 1.5970 - val_mae: 1.5970 - val_mse: 6.1727\n",
            "Epoch 199/200\n",
            "10/10 [==============================] - 0s 4ms/step - loss: 1.8358 - mae: 1.8358 - mse: 8.3022 - val_loss: 1.5977 - val_mae: 1.5977 - val_mse: 6.1751\n",
            "Epoch 200/200\n",
            "10/10 [==============================] - 0s 4ms/step - loss: 1.8352 - mae: 1.8352 - mse: 8.2929 - val_loss: 1.5950 - val_mae: 1.5950 - val_mse: 6.1598\n"
          ],
          "name": "stdout"
        }
      ]
    },
    {
      "cell_type": "code",
      "metadata": {
        "colab": {
          "base_uri": "https://localhost:8080/"
        },
        "id": "1lsbk_ohAu1j",
        "outputId": "449aa544-bb06-45c9-d4a6-8cf78176832f"
      },
      "source": [
        "model.summary()"
      ],
      "execution_count": null,
      "outputs": [
        {
          "output_type": "stream",
          "text": [
            "Model: \"sequential\"\n",
            "_________________________________________________________________\n",
            "Layer (type)                 Output Shape              Param #   \n",
            "=================================================================\n",
            "dense (Dense)                (None, 1)                 2         \n",
            "=================================================================\n",
            "Total params: 2\n",
            "Trainable params: 2\n",
            "Non-trainable params: 0\n",
            "_________________________________________________________________\n"
          ],
          "name": "stdout"
        }
      ]
    },
    {
      "cell_type": "code",
      "metadata": {
        "colab": {
          "base_uri": "https://localhost:8080/",
          "height": 705
        },
        "id": "P6VnkPim7tH7",
        "outputId": "e5bd8ce1-6874-42bb-ab5b-c15664723536"
      },
      "source": [
        "# string --> loss , mae, mse\n",
        "\n",
        "def plotGraphs(history, string): \n",
        "  plt.plot(history.history[string])\n",
        "  plt.plot(history.history[f'val_{string}'])\n",
        "  plt.xlabel('Num of Epochs')\n",
        "  plt.ylabel(string)\n",
        "  plt.legend([string, f'val_{string}'])\n",
        "  plt.show()\n",
        "\n",
        "plotGraphs(history, 'loss')\n",
        "plotGraphs(history, 'mae')"
      ],
      "execution_count": null,
      "outputs": [
        {
          "output_type": "display_data",
          "data": {
            "image/png": "[encoded data removed]",
            "text/plain": [
              "<Figure size 576x396 with 1 Axes>"
            ]
          },
          "metadata": {
            "tags": []
          }
        },
        {
          "output_type": "display_data",
          "data": {
            "image/png": "[encoded data removed]",
            "text/plain": [
              "<Figure size 576x396 with 1 Axes>"
            ]
          },
          "metadata": {
            "tags": []
          }
        }
      ]
    },
    {
      "cell_type": "code",
      "metadata": {
        "id": "KJrLWamX8Tg-"
      },
      "source": [
        "testPreds = model.predict(testFeatures).flatten() #array of all prediction values"
      ],
      "execution_count": null,
      "outputs": []
    },
    {
      "cell_type": "code",
      "metadata": {
        "colab": {
          "base_uri": "https://localhost:8080/",
          "height": 361
        },
        "id": "EfP8bB_v89Wa",
        "outputId": "8c66a698-7287-44c6-b28a-a361aee03f58"
      },
      "source": [
        "# prediciton plot --> how well is your model predicting across the actual labels\n",
        "\n",
        "def predPlot(labels, predictions):\n",
        "  plt.scatter(labels, predictions)\n",
        "  plt.ylabel('Predictions')\n",
        "  plt.xlabel('True Value or Labels')\n",
        "  plt.axis('equal')\n",
        "  plt.axis('square')\n",
        "  plt.xlim([0, plt.xlim()[1]])\n",
        "  plt.ylim([0, plt.ylim()[1]])\n",
        "  plt.plot([-100, 100], [-100,100])\n",
        "  plt.show()\n",
        "\n",
        "predPlot(testLabels, testPreds)"
      ],
      "execution_count": null,
      "outputs": [
        {
          "output_type": "display_data",
          "data": {
            "image/png": "[encoded data removed]",
            "text/plain": [
              "<Figure size 576x396 with 1 Axes>"
            ]
          },
          "metadata": {
            "tags": []
          }
        }
      ]
    },
    {
      "cell_type": "code",
      "metadata": {
        "colab": {
          "base_uri": "https://localhost:8080/",
          "height": 361
        },
        "id": "70608Z0o9tWL",
        "outputId": "e4e8c4cb-54d2-40d2-9685-12808a2e2078"
      },
      "source": [
        "#error plot --> gaussian distribution \n",
        "\n",
        "def errorPlot(preds, labels, counts):\n",
        "  errors = preds - labels\n",
        "  plt.hist(errors, counts)\n",
        "  plt.xlabel('Error')\n",
        "  plt.ylabel('Counts')\n",
        "  plt.show()\n",
        "\n",
        "errorPlot(testPreds, testLabels, numEpochs)"
      ],
      "execution_count": null,
      "outputs": [
        {
          "output_type": "display_data",
          "data": {
            "image/png": "[encoded data removed]",
            "text/plain": [
              "<Figure size 576x396 with 1 Axes>"
            ]
          },
          "metadata": {
            "tags": []
          }
        }
      ]
    }
  ]
}