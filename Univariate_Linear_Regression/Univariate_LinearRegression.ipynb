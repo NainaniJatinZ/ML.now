{
  "nbformat": 4,
  "nbformat_minor": 0,
  "metadata": {
    "colab": {
      "name": "Univariate_LinearRegression.ipynb",
      "provenance": [],
      "collapsed_sections": [],
      "authorship_tag": "ABX9TyOMkPoDc8Gbc3Zd5V153dkz",
      "include_colab_link": true
    },
    "kernelspec": {
      "name": "python3",
      "display_name": "Python 3"
    },
    "language_info": {
      "name": "python"
    }
  },
  "cells": [
    {
      "cell_type": "markdown",
      "metadata": {
        "id": "view-in-github",
        "colab_type": "text"
      },
      "source": [
        "<a href=\"https://colab.research.google.com/github/NainaniJatinZ/MLnow_2.0/blob/main/Univariate_Linear_Regression/Univariate_LinearRegression.ipynb\" target=\"_parent\"><img src=\"https://colab.research.google.com/assets/colab-badge.svg\" alt=\"Open In Colab\"/></a>"
      ]
    },
    {
      "cell_type": "markdown",
      "metadata": {
        "id": "fDuCF69MpmgH"
      },
      "source": [
        "> This notebook was created for code illustration of the `ML.now()` course\n",
        "\n",
        "`Univariate Linear Regression`\n",
        "\n",
        "[Link to Download the dataset](https://www.kaggle.com/smid80/weatherww2)\n",
        "\n",
        "\n",
        "Weather Conditions in World War Two\n",
        "\n",
        "\n",
        "Relation between Maximum and Minimum Daily Temperature\n",
        "\n",
        "**Date Created**: June 11, 2021\n",
        "\n",
        "**Author**:\n",
        " Jatin Sunil Nainani \n",
        "\n",
        "**Reach out**:\n",
        "[Email](nainani.jatin.0@gmail.com) | [GitHub](https://github.com/NainaniJatinZ) | [LinkedIn](https://www.linkedin.com/in/jatin-nainani-a6b2331b3/)\n",
        "\n",
        "[[Course Repository](https://github.com/NainaniJatinZ/MLnow_2.0)]\n"
      ]
    },
    {
      "cell_type": "markdown",
      "metadata": {
        "id": "PY4nIaPSrK7_"
      },
      "source": [
        "## Setup"
      ]
    },
    {
      "cell_type": "code",
      "metadata": {
        "colab": {
          "base_uri": "https://localhost:8080/"
        },
        "id": "v-F3yg8qpZGr",
        "outputId": "47031d4d-72b9-4d5d-c82f-06b0fb4b9777"
      },
      "source": [
        "from google.colab import drive\n",
        "drive.mount('/content/drive')"
      ],
      "execution_count": null,
      "outputs": [
        {
          "output_type": "stream",
          "text": [
            "Mounted at /content/drive\n"
          ],
          "name": "stdout"
        }
      ]
    },
    {
      "cell_type": "code",
      "metadata": {
        "colab": {
          "base_uri": "https://localhost:8080/"
        },
        "id": "oTDli20XrRNp",
        "outputId": "a037b025-cbc1-4945-8223-0cc6c33988ae"
      },
      "source": [
        "cd '/content/drive/MyDrive/Colab Notebooks/GirlScriptML/Univariate'"
      ],
      "execution_count": null,
      "outputs": [
        {
          "output_type": "stream",
          "text": [
            "/content/drive/MyDrive/Colab Notebooks/GirlScriptML/Univariate\n"
          ],
          "name": "stdout"
        }
      ]
    },
    {
      "cell_type": "code",
      "metadata": {
        "colab": {
          "base_uri": "https://localhost:8080/"
        },
        "id": "3FToYeJErv7h",
        "outputId": "2240c2c2-d98a-4fff-b0f1-ed8fca9a09af"
      },
      "source": [
        "ls"
      ],
      "execution_count": null,
      "outputs": [
        {
          "output_type": "stream",
          "text": [
            " carbon_nanotubes.csv  'Summary of Weather.csv'\n",
            " Coordinate_u.csv       Univariate_LinearRegression_NanoTube.ipynb\n"
          ],
          "name": "stdout"
        }
      ]
    },
    {
      "cell_type": "code",
      "metadata": {
        "id": "Ao06Y4psrxMw"
      },
      "source": [
        "import pandas as pd\n",
        "import numpy as np\n",
        "import tensorflow as tf \n",
        "from tensorflow import keras \n",
        "import os"
      ],
      "execution_count": null,
      "outputs": []
    },
    {
      "cell_type": "code",
      "metadata": {
        "id": "79pXcKWzsASu",
        "colab": {
          "base_uri": "https://localhost:8080/"
        },
        "outputId": "13d59387-6621-4859-90e2-1f2b5bc43422"
      },
      "source": [
        "nanoFrame = pd.read_csv('Summary of Weather.csv')"
      ],
      "execution_count": null,
      "outputs": [
        {
          "output_type": "stream",
          "text": [
            "/usr/local/lib/python3.7/dist-packages/IPython/core/interactiveshell.py:2718: DtypeWarning: Columns (7,8,18,25) have mixed types.Specify dtype option on import or set low_memory=False.\n",
            "  interactivity=interactivity, compiler=compiler, result=result)\n"
          ],
          "name": "stderr"
        }
      ]
    },
    {
      "cell_type": "code",
      "metadata": {
        "colab": {
          "base_uri": "https://localhost:8080/",
          "height": 545
        },
        "id": "stxcd09wsZy4",
        "outputId": "72b73f0c-1d55-4e20-92de-0b7ee3408fe1"
      },
      "source": [
        "nanoFrame.head(10)"
      ],
      "execution_count": null,
      "outputs": [
        {
          "output_type": "execute_result",
          "data": {
            "text/html": [
              "<div>\n",
              "<style scoped>\n",
              "    .dataframe tbody tr th:only-of-type {\n",
              "        vertical-align: middle;\n",
              "    }\n",
              "\n",
              "    .dataframe tbody tr th {\n",
              "        vertical-align: top;\n",
              "    }\n",
              "\n",
              "    .dataframe thead th {\n",
              "        text-align: right;\n",
              "    }\n",
              "</style>\n",
              "<table border=\"1\" class=\"dataframe\">\n",
              "  <thead>\n",
              "    <tr style=\"text-align: right;\">\n",
              "      <th></th>\n",
              "      <th>STA</th>\n",
              "      <th>Date</th>\n",
              "      <th>Precip</th>\n",
              "      <th>WindGustSpd</th>\n",
              "      <th>MaxTemp</th>\n",
              "      <th>MinTemp</th>\n",
              "      <th>MeanTemp</th>\n",
              "      <th>Snowfall</th>\n",
              "      <th>PoorWeather</th>\n",
              "      <th>YR</th>\n",
              "      <th>MO</th>\n",
              "      <th>DA</th>\n",
              "      <th>PRCP</th>\n",
              "      <th>DR</th>\n",
              "      <th>SPD</th>\n",
              "      <th>MAX</th>\n",
              "      <th>MIN</th>\n",
              "      <th>MEA</th>\n",
              "      <th>SNF</th>\n",
              "      <th>SND</th>\n",
              "      <th>FT</th>\n",
              "      <th>FB</th>\n",
              "      <th>FTI</th>\n",
              "      <th>ITH</th>\n",
              "      <th>PGT</th>\n",
              "      <th>TSHDSBRSGF</th>\n",
              "      <th>SD3</th>\n",
              "      <th>RHX</th>\n",
              "      <th>RHN</th>\n",
              "      <th>RVG</th>\n",
              "      <th>WTE</th>\n",
              "    </tr>\n",
              "  </thead>\n",
              "  <tbody>\n",
              "    <tr>\n",
              "      <th>0</th>\n",
              "      <td>10001</td>\n",
              "      <td>1942-7-1</td>\n",
              "      <td>1.016</td>\n",
              "      <td>NaN</td>\n",
              "      <td>25.555556</td>\n",
              "      <td>22.222222</td>\n",
              "      <td>23.888889</td>\n",
              "      <td>0</td>\n",
              "      <td>NaN</td>\n",
              "      <td>42</td>\n",
              "      <td>7</td>\n",
              "      <td>1</td>\n",
              "      <td>0.04</td>\n",
              "      <td>NaN</td>\n",
              "      <td>NaN</td>\n",
              "      <td>78.0</td>\n",
              "      <td>72.0</td>\n",
              "      <td>75.0</td>\n",
              "      <td>0</td>\n",
              "      <td>NaN</td>\n",
              "      <td>NaN</td>\n",
              "      <td>NaN</td>\n",
              "      <td>NaN</td>\n",
              "      <td>NaN</td>\n",
              "      <td>NaN</td>\n",
              "      <td>NaN</td>\n",
              "      <td>NaN</td>\n",
              "      <td>NaN</td>\n",
              "      <td>NaN</td>\n",
              "      <td>NaN</td>\n",
              "      <td>NaN</td>\n",
              "    </tr>\n",
              "    <tr>\n",
              "      <th>1</th>\n",
              "      <td>10001</td>\n",
              "      <td>1942-7-2</td>\n",
              "      <td>0</td>\n",
              "      <td>NaN</td>\n",
              "      <td>28.888889</td>\n",
              "      <td>21.666667</td>\n",
              "      <td>25.555556</td>\n",
              "      <td>0</td>\n",
              "      <td>NaN</td>\n",
              "      <td>42</td>\n",
              "      <td>7</td>\n",
              "      <td>2</td>\n",
              "      <td>0</td>\n",
              "      <td>NaN</td>\n",
              "      <td>NaN</td>\n",
              "      <td>84.0</td>\n",
              "      <td>71.0</td>\n",
              "      <td>78.0</td>\n",
              "      <td>0</td>\n",
              "      <td>NaN</td>\n",
              "      <td>NaN</td>\n",
              "      <td>NaN</td>\n",
              "      <td>NaN</td>\n",
              "      <td>NaN</td>\n",
              "      <td>NaN</td>\n",
              "      <td>NaN</td>\n",
              "      <td>NaN</td>\n",
              "      <td>NaN</td>\n",
              "      <td>NaN</td>\n",
              "      <td>NaN</td>\n",
              "      <td>NaN</td>\n",
              "    </tr>\n",
              "    <tr>\n",
              "      <th>2</th>\n",
              "      <td>10001</td>\n",
              "      <td>1942-7-3</td>\n",
              "      <td>2.54</td>\n",
              "      <td>NaN</td>\n",
              "      <td>26.111111</td>\n",
              "      <td>22.222222</td>\n",
              "      <td>24.444444</td>\n",
              "      <td>0</td>\n",
              "      <td>NaN</td>\n",
              "      <td>42</td>\n",
              "      <td>7</td>\n",
              "      <td>3</td>\n",
              "      <td>0.1</td>\n",
              "      <td>NaN</td>\n",
              "      <td>NaN</td>\n",
              "      <td>79.0</td>\n",
              "      <td>72.0</td>\n",
              "      <td>76.0</td>\n",
              "      <td>0</td>\n",
              "      <td>NaN</td>\n",
              "      <td>NaN</td>\n",
              "      <td>NaN</td>\n",
              "      <td>NaN</td>\n",
              "      <td>NaN</td>\n",
              "      <td>NaN</td>\n",
              "      <td>NaN</td>\n",
              "      <td>NaN</td>\n",
              "      <td>NaN</td>\n",
              "      <td>NaN</td>\n",
              "      <td>NaN</td>\n",
              "      <td>NaN</td>\n",
              "    </tr>\n",
              "    <tr>\n",
              "      <th>3</th>\n",
              "      <td>10001</td>\n",
              "      <td>1942-7-4</td>\n",
              "      <td>2.54</td>\n",
              "      <td>NaN</td>\n",
              "      <td>26.666667</td>\n",
              "      <td>22.222222</td>\n",
              "      <td>24.444444</td>\n",
              "      <td>0</td>\n",
              "      <td>NaN</td>\n",
              "      <td>42</td>\n",
              "      <td>7</td>\n",
              "      <td>4</td>\n",
              "      <td>0.1</td>\n",
              "      <td>NaN</td>\n",
              "      <td>NaN</td>\n",
              "      <td>80.0</td>\n",
              "      <td>72.0</td>\n",
              "      <td>76.0</td>\n",
              "      <td>0</td>\n",
              "      <td>NaN</td>\n",
              "      <td>NaN</td>\n",
              "      <td>NaN</td>\n",
              "      <td>NaN</td>\n",
              "      <td>NaN</td>\n",
              "      <td>NaN</td>\n",
              "      <td>NaN</td>\n",
              "      <td>NaN</td>\n",
              "      <td>NaN</td>\n",
              "      <td>NaN</td>\n",
              "      <td>NaN</td>\n",
              "      <td>NaN</td>\n",
              "    </tr>\n",
              "    <tr>\n",
              "      <th>4</th>\n",
              "      <td>10001</td>\n",
              "      <td>1942-7-5</td>\n",
              "      <td>0</td>\n",
              "      <td>NaN</td>\n",
              "      <td>26.666667</td>\n",
              "      <td>21.666667</td>\n",
              "      <td>24.444444</td>\n",
              "      <td>0</td>\n",
              "      <td>NaN</td>\n",
              "      <td>42</td>\n",
              "      <td>7</td>\n",
              "      <td>5</td>\n",
              "      <td>0</td>\n",
              "      <td>NaN</td>\n",
              "      <td>NaN</td>\n",
              "      <td>80.0</td>\n",
              "      <td>71.0</td>\n",
              "      <td>76.0</td>\n",
              "      <td>0</td>\n",
              "      <td>NaN</td>\n",
              "      <td>NaN</td>\n",
              "      <td>NaN</td>\n",
              "      <td>NaN</td>\n",
              "      <td>NaN</td>\n",
              "      <td>NaN</td>\n",
              "      <td>NaN</td>\n",
              "      <td>NaN</td>\n",
              "      <td>NaN</td>\n",
              "      <td>NaN</td>\n",
              "      <td>NaN</td>\n",
              "      <td>NaN</td>\n",
              "    </tr>\n",
              "    <tr>\n",
              "      <th>5</th>\n",
              "      <td>10001</td>\n",
              "      <td>1942-7-6</td>\n",
              "      <td>0</td>\n",
              "      <td>NaN</td>\n",
              "      <td>26.666667</td>\n",
              "      <td>21.666667</td>\n",
              "      <td>24.444444</td>\n",
              "      <td>0</td>\n",
              "      <td>NaN</td>\n",
              "      <td>42</td>\n",
              "      <td>7</td>\n",
              "      <td>6</td>\n",
              "      <td>0</td>\n",
              "      <td>NaN</td>\n",
              "      <td>NaN</td>\n",
              "      <td>80.0</td>\n",
              "      <td>71.0</td>\n",
              "      <td>76.0</td>\n",
              "      <td>0</td>\n",
              "      <td>NaN</td>\n",
              "      <td>NaN</td>\n",
              "      <td>NaN</td>\n",
              "      <td>NaN</td>\n",
              "      <td>NaN</td>\n",
              "      <td>NaN</td>\n",
              "      <td>NaN</td>\n",
              "      <td>NaN</td>\n",
              "      <td>NaN</td>\n",
              "      <td>NaN</td>\n",
              "      <td>NaN</td>\n",
              "      <td>NaN</td>\n",
              "    </tr>\n",
              "    <tr>\n",
              "      <th>6</th>\n",
              "      <td>10001</td>\n",
              "      <td>1942-7-7</td>\n",
              "      <td>T</td>\n",
              "      <td>NaN</td>\n",
              "      <td>28.333333</td>\n",
              "      <td>22.777778</td>\n",
              "      <td>25.555556</td>\n",
              "      <td>0</td>\n",
              "      <td>NaN</td>\n",
              "      <td>42</td>\n",
              "      <td>7</td>\n",
              "      <td>7</td>\n",
              "      <td>T</td>\n",
              "      <td>NaN</td>\n",
              "      <td>NaN</td>\n",
              "      <td>83.0</td>\n",
              "      <td>73.0</td>\n",
              "      <td>78.0</td>\n",
              "      <td>0</td>\n",
              "      <td>NaN</td>\n",
              "      <td>NaN</td>\n",
              "      <td>NaN</td>\n",
              "      <td>NaN</td>\n",
              "      <td>NaN</td>\n",
              "      <td>NaN</td>\n",
              "      <td>NaN</td>\n",
              "      <td>NaN</td>\n",
              "      <td>NaN</td>\n",
              "      <td>NaN</td>\n",
              "      <td>NaN</td>\n",
              "      <td>NaN</td>\n",
              "    </tr>\n",
              "    <tr>\n",
              "      <th>7</th>\n",
              "      <td>10001</td>\n",
              "      <td>1942-7-8</td>\n",
              "      <td>3.556</td>\n",
              "      <td>NaN</td>\n",
              "      <td>26.666667</td>\n",
              "      <td>22.222222</td>\n",
              "      <td>24.444444</td>\n",
              "      <td>0</td>\n",
              "      <td>NaN</td>\n",
              "      <td>42</td>\n",
              "      <td>7</td>\n",
              "      <td>8</td>\n",
              "      <td>0.14</td>\n",
              "      <td>NaN</td>\n",
              "      <td>NaN</td>\n",
              "      <td>80.0</td>\n",
              "      <td>72.0</td>\n",
              "      <td>76.0</td>\n",
              "      <td>0</td>\n",
              "      <td>NaN</td>\n",
              "      <td>NaN</td>\n",
              "      <td>NaN</td>\n",
              "      <td>NaN</td>\n",
              "      <td>NaN</td>\n",
              "      <td>NaN</td>\n",
              "      <td>NaN</td>\n",
              "      <td>NaN</td>\n",
              "      <td>NaN</td>\n",
              "      <td>NaN</td>\n",
              "      <td>NaN</td>\n",
              "      <td>NaN</td>\n",
              "    </tr>\n",
              "    <tr>\n",
              "      <th>8</th>\n",
              "      <td>10001</td>\n",
              "      <td>1942-7-9</td>\n",
              "      <td>T</td>\n",
              "      <td>NaN</td>\n",
              "      <td>27.222222</td>\n",
              "      <td>22.777778</td>\n",
              "      <td>25.000000</td>\n",
              "      <td>0</td>\n",
              "      <td>NaN</td>\n",
              "      <td>42</td>\n",
              "      <td>7</td>\n",
              "      <td>9</td>\n",
              "      <td>T</td>\n",
              "      <td>NaN</td>\n",
              "      <td>NaN</td>\n",
              "      <td>81.0</td>\n",
              "      <td>73.0</td>\n",
              "      <td>77.0</td>\n",
              "      <td>0</td>\n",
              "      <td>NaN</td>\n",
              "      <td>NaN</td>\n",
              "      <td>NaN</td>\n",
              "      <td>NaN</td>\n",
              "      <td>NaN</td>\n",
              "      <td>NaN</td>\n",
              "      <td>NaN</td>\n",
              "      <td>NaN</td>\n",
              "      <td>NaN</td>\n",
              "      <td>NaN</td>\n",
              "      <td>NaN</td>\n",
              "      <td>NaN</td>\n",
              "    </tr>\n",
              "    <tr>\n",
              "      <th>9</th>\n",
              "      <td>10001</td>\n",
              "      <td>1942-7-10</td>\n",
              "      <td>3.556</td>\n",
              "      <td>NaN</td>\n",
              "      <td>25.555556</td>\n",
              "      <td>21.666667</td>\n",
              "      <td>23.333333</td>\n",
              "      <td>0</td>\n",
              "      <td>NaN</td>\n",
              "      <td>42</td>\n",
              "      <td>7</td>\n",
              "      <td>10</td>\n",
              "      <td>0.14</td>\n",
              "      <td>NaN</td>\n",
              "      <td>NaN</td>\n",
              "      <td>78.0</td>\n",
              "      <td>71.0</td>\n",
              "      <td>74.0</td>\n",
              "      <td>0</td>\n",
              "      <td>NaN</td>\n",
              "      <td>NaN</td>\n",
              "      <td>NaN</td>\n",
              "      <td>NaN</td>\n",
              "      <td>NaN</td>\n",
              "      <td>NaN</td>\n",
              "      <td>NaN</td>\n",
              "      <td>NaN</td>\n",
              "      <td>NaN</td>\n",
              "      <td>NaN</td>\n",
              "      <td>NaN</td>\n",
              "      <td>NaN</td>\n",
              "    </tr>\n",
              "  </tbody>\n",
              "</table>\n",
              "</div>"
            ],
            "text/plain": [
              "     STA       Date Precip  WindGustSpd    MaxTemp  ...  SD3  RHX RHN RVG  WTE\n",
              "0  10001   1942-7-1  1.016          NaN  25.555556  ...  NaN  NaN NaN NaN  NaN\n",
              "1  10001   1942-7-2      0          NaN  28.888889  ...  NaN  NaN NaN NaN  NaN\n",
              "2  10001   1942-7-3   2.54          NaN  26.111111  ...  NaN  NaN NaN NaN  NaN\n",
              "3  10001   1942-7-4   2.54          NaN  26.666667  ...  NaN  NaN NaN NaN  NaN\n",
              "4  10001   1942-7-5      0          NaN  26.666667  ...  NaN  NaN NaN NaN  NaN\n",
              "5  10001   1942-7-6      0          NaN  26.666667  ...  NaN  NaN NaN NaN  NaN\n",
              "6  10001   1942-7-7      T          NaN  28.333333  ...  NaN  NaN NaN NaN  NaN\n",
              "7  10001   1942-7-8  3.556          NaN  26.666667  ...  NaN  NaN NaN NaN  NaN\n",
              "8  10001   1942-7-9      T          NaN  27.222222  ...  NaN  NaN NaN NaN  NaN\n",
              "9  10001  1942-7-10  3.556          NaN  25.555556  ...  NaN  NaN NaN NaN  NaN\n",
              "\n",
              "[10 rows x 31 columns]"
            ]
          },
          "metadata": {
            "tags": []
          },
          "execution_count": 7
        }
      ]
    },
    {
      "cell_type": "code",
      "metadata": {
        "colab": {
          "base_uri": "https://localhost:8080/",
          "height": 203
        },
        "id": "v0yqP4KOt6Q0",
        "outputId": "5fa75633-2d8e-45c2-ce54-ecd66afc9b04"
      },
      "source": [
        "uniData = nanoFrame[[\"MaxTemp\", \"MinTemp\"]]\n",
        "\n",
        "uniData.head()"
      ],
      "execution_count": null,
      "outputs": [
        {
          "output_type": "execute_result",
          "data": {
            "text/html": [
              "<div>\n",
              "<style scoped>\n",
              "    .dataframe tbody tr th:only-of-type {\n",
              "        vertical-align: middle;\n",
              "    }\n",
              "\n",
              "    .dataframe tbody tr th {\n",
              "        vertical-align: top;\n",
              "    }\n",
              "\n",
              "    .dataframe thead th {\n",
              "        text-align: right;\n",
              "    }\n",
              "</style>\n",
              "<table border=\"1\" class=\"dataframe\">\n",
              "  <thead>\n",
              "    <tr style=\"text-align: right;\">\n",
              "      <th></th>\n",
              "      <th>MaxTemp</th>\n",
              "      <th>MinTemp</th>\n",
              "    </tr>\n",
              "  </thead>\n",
              "  <tbody>\n",
              "    <tr>\n",
              "      <th>0</th>\n",
              "      <td>25.555556</td>\n",
              "      <td>22.222222</td>\n",
              "    </tr>\n",
              "    <tr>\n",
              "      <th>1</th>\n",
              "      <td>28.888889</td>\n",
              "      <td>21.666667</td>\n",
              "    </tr>\n",
              "    <tr>\n",
              "      <th>2</th>\n",
              "      <td>26.111111</td>\n",
              "      <td>22.222222</td>\n",
              "    </tr>\n",
              "    <tr>\n",
              "      <th>3</th>\n",
              "      <td>26.666667</td>\n",
              "      <td>22.222222</td>\n",
              "    </tr>\n",
              "    <tr>\n",
              "      <th>4</th>\n",
              "      <td>26.666667</td>\n",
              "      <td>21.666667</td>\n",
              "    </tr>\n",
              "  </tbody>\n",
              "</table>\n",
              "</div>"
            ],
            "text/plain": [
              "     MaxTemp    MinTemp\n",
              "0  25.555556  22.222222\n",
              "1  28.888889  21.666667\n",
              "2  26.111111  22.222222\n",
              "3  26.666667  22.222222\n",
              "4  26.666667  21.666667"
            ]
          },
          "metadata": {
            "tags": []
          },
          "execution_count": 8
        }
      ]
    },
    {
      "cell_type": "code",
      "metadata": {
        "id": "JqXnd1HlbGuQ"
      },
      "source": [
        "uniData.to_csv('TempDiff.csv')"
      ],
      "execution_count": null,
      "outputs": []
    },
    {
      "cell_type": "code",
      "metadata": {
        "colab": {
          "base_uri": "https://localhost:8080/",
          "height": 157
        },
        "id": "JoBZ9WbdbfYI",
        "outputId": "9f6b4a75-7ab6-4ee2-af1d-5d725a1c7c9d"
      },
      "source": [
        "import seaborn as sns\n",
        "sns.palplot(sns.color_palette('PuOr')) #Purple to Orange colors\n",
        "pal = sns.color_palette('PuOr', 6) #print 6 color shades from Purple to Orange\n",
        "pal.as_hex() #set hex code values for colors\n",
        "\n",
        "import matplotlib.pyplot as plt\n",
        "plt.style.use(['seaborn'])\n",
        "sns_colors = ['#c6690c', '#664697'] #orange Purple hex codes\n",
        "sns.set_palette(sns_colors) #set the palette as sns_colors \n",
        "sns.palplot(sns.color_palette(sns_colors)) #plot the color codes"
      ],
      "execution_count": null,
      "outputs": [
        {
          "output_type": "display_data",
          "data": {
            "image/png": "[encoded data removed]",
            "text/plain": [
              "<Figure size 432x72 with 1 Axes>"
            ]
          },
          "metadata": {
            "tags": [],
            "needs_background": "light"
          }
        },
        {
          "output_type": "display_data",
          "data": {
            "image/png": "[encoded data removed]",
            "text/plain": [
              "<Figure size 144x72 with 1 Axes>"
            ]
          },
          "metadata": {
            "tags": []
          }
        }
      ]
    },
    {
      "cell_type": "code",
      "metadata": {
        "colab": {
          "base_uri": "https://localhost:8080/",
          "height": 378
        },
        "id": "UfSipo8Obiqp",
        "outputId": "94529e29-a2e9-48bb-98d0-dc9fe8edeae0"
      },
      "source": [
        "sns.stripplot(y= \"MaxTemp\", x=\"MinTemp\", data=uniData)"
      ],
      "execution_count": null,
      "outputs": [
        {
          "output_type": "execute_result",
          "data": {
            "text/plain": [
              "<matplotlib.axes._subplots.AxesSubplot at 0x7f7e2760f290>"
            ]
          },
          "metadata": {
            "tags": []
          },
          "execution_count": 11
        },
        {
          "output_type": "display_data",
          "data": {
            "image/png": "[encoded data removed]",
            "text/plain": [
              "<Figure size 576x396 with 1 Axes>"
            ]
          },
          "metadata": {
            "tags": []
          }
        }
      ]
    },
    {
      "cell_type": "code",
      "metadata": {
        "colab": {
          "base_uri": "https://localhost:8080/",
          "height": 392
        },
        "id": "fEcZIep5bv0e",
        "outputId": "5cc49135-4166-4cfd-bc43-9999bae3b563"
      },
      "source": [
        "sns.pairplot(uniData,x_vars=['MaxTemp',\"MinTemp\"],y_vars=['MaxTemp',\"MinTemp\"],diag_kind='kde')"
      ],
      "execution_count": null,
      "outputs": [
        {
          "output_type": "execute_result",
          "data": {
            "text/plain": [
              "<seaborn.axisgrid.PairGrid at 0x7f7e27308d10>"
            ]
          },
          "metadata": {
            "tags": []
          },
          "execution_count": 13
        },
        {
          "output_type": "display_data",
          "data": {
            "image/png": "[encoded data removed]",
            "text/plain": [
              "<Figure size 360x360 with 6 Axes>"
            ]
          },
          "metadata": {
            "tags": []
          }
        }
      ]
    },
    {
      "cell_type": "markdown",
      "metadata": {
        "id": "v3ydJoqmdECM"
      },
      "source": [
        "## Splitting Dataset"
      ]
    },
    {
      "cell_type": "code",
      "metadata": {
        "colab": {
          "base_uri": "https://localhost:8080/"
        },
        "id": "m5cuOrGSdDWP",
        "outputId": "e8bbd8d4-92db-430d-9963-9bc47edcb107"
      },
      "source": [
        "splitRatio = 0.7  #@param {type:'slider',min:'0.4',max:'1.0',step:'0.05'}\n",
        "XTrain = uniData.sample(frac=splitRatio,random_state=41)\n",
        "XTest = uniData.drop(XTrain.index)\n",
        "\n",
        "print(XTrain.head())\n",
        "print(XTest.head())"
      ],
      "execution_count": null,
      "outputs": [
        {
          "output_type": "stream",
          "text": [
            "          MaxTemp    MinTemp\n",
            "36086   28.888889  22.222222\n",
            "78517   20.000000  12.777778\n",
            "116034  29.444444  22.222222\n",
            "100134  29.444444  20.000000\n",
            "41219   20.000000  14.444444\n",
            "      MaxTemp    MinTemp\n",
            "6   28.333333  22.777778\n",
            "7   26.666667  22.222222\n",
            "13  26.111111  22.222222\n",
            "14  25.555556  22.777778\n",
            "16  28.333333  22.222222\n"
          ],
          "name": "stdout"
        }
      ]
    },
    {
      "cell_type": "code",
      "metadata": {
        "colab": {
          "base_uri": "https://localhost:8080/"
        },
        "id": "jJYr9BbLdfEu",
        "outputId": "0993de71-493e-4acf-e35a-1d67e7032b5d"
      },
      "source": [
        "yTrain = XTrain.pop(\"MaxTemp\")\n",
        "yTest = XTest.pop(\"MaxTemp\")\n",
        "\n",
        "print(yTrain.head())\n",
        "print(yTest.head())"
      ],
      "execution_count": null,
      "outputs": [
        {
          "output_type": "stream",
          "text": [
            "36086     28.888889\n",
            "78517     20.000000\n",
            "116034    29.444444\n",
            "100134    29.444444\n",
            "41219     20.000000\n",
            "Name: MaxTemp, dtype: float64\n",
            "6     28.333333\n",
            "7     26.666667\n",
            "13    26.111111\n",
            "14    25.555556\n",
            "16    28.333333\n",
            "Name: MaxTemp, dtype: float64\n"
          ],
          "name": "stdout"
        }
      ]
    },
    {
      "cell_type": "code",
      "metadata": {
        "colab": {
          "base_uri": "https://localhost:8080/"
        },
        "id": "f8RdhkUJd1I9",
        "outputId": "98c6d189-6beb-4576-c596-0526d4869dfd"
      },
      "source": [
        "print(XTrain.head())\n",
        "print(XTest.head())"
      ],
      "execution_count": null,
      "outputs": [
        {
          "output_type": "stream",
          "text": [
            "          MinTemp\n",
            "36086   22.222222\n",
            "78517   12.777778\n",
            "116034  22.222222\n",
            "100134  20.000000\n",
            "41219   14.444444\n",
            "      MinTemp\n",
            "6   22.777778\n",
            "7   22.222222\n",
            "13  22.222222\n",
            "14  22.777778\n",
            "16  22.222222\n"
          ],
          "name": "stdout"
        }
      ]
    },
    {
      "cell_type": "markdown",
      "metadata": {
        "id": "bR-0izi-d4m7"
      },
      "source": [
        "## Building the model"
      ]
    },
    {
      "cell_type": "code",
      "metadata": {
        "id": "K6lk3ReWd1pK"
      },
      "source": [
        "model = tf.keras.Sequential([tf.keras.layers.Dense(1)])\n",
        "learningRate = 0.00006 #@param {type:'slider',min:'0.00001',max:'0.01',step:'0.00005'}\n",
        "model.compile(\n",
        "              loss = \"mean_absolute_error\"  #@param [\"mean_absolute_error\",\"mean_squared_error\"]\n",
        "              ,\n",
        "              optimizer = tf.keras.optimizers.Adam(learning_rate=learningRate),\n",
        "              metrics = ['mae','mse']\n",
        ")"
      ],
      "execution_count": null,
      "outputs": []
    },
    {
      "cell_type": "markdown",
      "metadata": {
        "id": "XESuR0eofQ_E"
      },
      "source": [
        "# Callbacks"
      ]
    },
    {
      "cell_type": "code",
      "metadata": {
        "id": "aegk0RGEfSdv"
      },
      "source": [
        "early_stopping = tf.keras.callbacks.EarlyStopping(monitor=\"mae\",patience=5)"
      ],
      "execution_count": null,
      "outputs": []
    },
    {
      "cell_type": "markdown",
      "metadata": {
        "id": "XyRpDFUWfuAt"
      },
      "source": [
        "# Training Model"
      ]
    },
    {
      "cell_type": "code",
      "metadata": {
        "colab": {
          "base_uri": "https://localhost:8080/"
        },
        "id": "wbH8BBOhfwO_",
        "outputId": "8e648e42-80f2-4d36-aa83-a2df488e3af1"
      },
      "source": [
        "numEpochs = 200 #@param {type:'slider',min:'10',max:'1000',step:'10'}\n",
        "history = model.fit(x = XTrain,\n",
        "                    y=yTrain,\n",
        "                    validation_data=(XTest,yTest),\n",
        "                    epochs=numEpochs,\n",
        "                   callbacks=[early_stopping])"
      ],
      "execution_count": null,
      "outputs": [
        {
          "output_type": "stream",
          "text": [
            "Epoch 1/200\n",
            "2604/2604 [==============================] - 4s 2ms/step - loss: 5.9203 - mae: 5.9203 - mse: 51.6867 - val_loss: 5.2866 - val_mae: 5.2866 - val_mse: 43.8995\n",
            "Epoch 2/200\n",
            "2604/2604 [==============================] - 3s 1ms/step - loss: 4.8692 - mae: 4.8692 - mse: 39.8595 - val_loss: 4.6997 - val_mae: 4.6997 - val_mse: 39.0772\n",
            "Epoch 3/200\n",
            "2604/2604 [==============================] - 3s 1ms/step - loss: 4.5935 - mae: 4.5935 - mse: 38.1733 - val_loss: 4.6131 - val_mae: 4.6131 - val_mse: 38.8340\n",
            "Epoch 4/200\n",
            "2604/2604 [==============================] - 4s 1ms/step - loss: 4.5509 - mae: 4.5509 - mse: 37.8902 - val_loss: 4.5833 - val_mae: 4.5833 - val_mse: 38.4065\n",
            "Epoch 5/200\n",
            "2604/2604 [==============================] - 4s 1ms/step - loss: 4.5230 - mae: 4.5230 - mse: 37.4619 - val_loss: 4.5554 - val_mae: 4.5554 - val_mse: 37.9351\n",
            "Epoch 6/200\n",
            "2604/2604 [==============================] - 4s 1ms/step - loss: 4.4957 - mae: 4.4957 - mse: 36.9876 - val_loss: 4.5281 - val_mae: 4.5281 - val_mse: 37.4716\n",
            "Epoch 7/200\n",
            "2604/2604 [==============================] - 4s 1ms/step - loss: 4.4687 - mae: 4.4687 - mse: 36.5423 - val_loss: 4.5010 - val_mae: 4.5010 - val_mse: 36.9957\n",
            "Epoch 8/200\n",
            "2604/2604 [==============================] - 3s 1ms/step - loss: 4.4418 - mae: 4.4418 - mse: 36.0853 - val_loss: 4.4736 - val_mae: 4.4736 - val_mse: 36.5500\n",
            "Epoch 9/200\n",
            "2604/2604 [==============================] - 4s 1ms/step - loss: 4.4150 - mae: 4.4150 - mse: 35.6414 - val_loss: 4.4467 - val_mae: 4.4467 - val_mse: 36.0999\n",
            "Epoch 10/200\n",
            "2604/2604 [==============================] - 3s 1ms/step - loss: 4.3884 - mae: 4.3884 - mse: 35.2057 - val_loss: 4.4198 - val_mae: 4.4198 - val_mse: 35.6492\n",
            "Epoch 11/200\n",
            "2604/2604 [==============================] - 3s 1ms/step - loss: 4.3619 - mae: 4.3619 - mse: 34.7698 - val_loss: 4.3931 - val_mae: 4.3931 - val_mse: 35.2221\n",
            "Epoch 12/200\n",
            "2604/2604 [==============================] - 4s 1ms/step - loss: 4.3355 - mae: 4.3355 - mse: 34.3444 - val_loss: 4.3663 - val_mae: 4.3663 - val_mse: 34.7858\n",
            "Epoch 13/200\n",
            "2604/2604 [==============================] - 3s 1ms/step - loss: 4.3090 - mae: 4.3090 - mse: 33.9218 - val_loss: 4.3398 - val_mae: 4.3398 - val_mse: 34.3652\n",
            "Epoch 14/200\n",
            "2604/2604 [==============================] - 4s 1ms/step - loss: 4.2830 - mae: 4.2830 - mse: 33.5139 - val_loss: 4.3135 - val_mae: 4.3135 - val_mse: 33.9589\n",
            "Epoch 15/200\n",
            "2604/2604 [==============================] - 4s 1ms/step - loss: 4.2570 - mae: 4.2570 - mse: 33.1141 - val_loss: 4.2874 - val_mae: 4.2874 - val_mse: 33.5434\n",
            "Epoch 16/200\n",
            "2604/2604 [==============================] - 4s 1ms/step - loss: 4.2313 - mae: 4.2313 - mse: 32.7162 - val_loss: 4.2613 - val_mae: 4.2613 - val_mse: 33.1376\n",
            "Epoch 17/200\n",
            "2604/2604 [==============================] - 4s 1ms/step - loss: 4.2057 - mae: 4.2057 - mse: 32.3273 - val_loss: 4.2355 - val_mae: 4.2355 - val_mse: 32.7537\n",
            "Epoch 18/200\n",
            "2604/2604 [==============================] - 4s 1ms/step - loss: 4.1801 - mae: 4.1801 - mse: 31.9435 - val_loss: 4.2097 - val_mae: 4.2097 - val_mse: 32.3774\n",
            "Epoch 19/200\n",
            "2604/2604 [==============================] - 3s 1ms/step - loss: 4.1547 - mae: 4.1547 - mse: 31.5629 - val_loss: 4.1841 - val_mae: 4.1841 - val_mse: 32.0207\n",
            "Epoch 20/200\n",
            "2604/2604 [==============================] - 4s 1ms/step - loss: 4.1296 - mae: 4.1296 - mse: 31.2135 - val_loss: 4.1586 - val_mae: 4.1586 - val_mse: 31.6325\n",
            "Epoch 21/200\n",
            "2604/2604 [==============================] - 3s 1ms/step - loss: 4.1045 - mae: 4.1045 - mse: 30.8453 - val_loss: 4.1334 - val_mae: 4.1334 - val_mse: 31.2459\n",
            "Epoch 22/200\n",
            "2604/2604 [==============================] - 4s 1ms/step - loss: 4.0796 - mae: 4.0796 - mse: 30.4707 - val_loss: 4.1083 - val_mae: 4.1083 - val_mse: 30.8735\n",
            "Epoch 23/200\n",
            "2604/2604 [==============================] - 3s 1ms/step - loss: 4.0548 - mae: 4.0548 - mse: 30.1270 - val_loss: 4.0836 - val_mae: 4.0836 - val_mse: 30.4783\n",
            "Epoch 24/200\n",
            "2604/2604 [==============================] - 3s 1ms/step - loss: 4.0302 - mae: 4.0302 - mse: 29.7521 - val_loss: 4.0587 - val_mae: 4.0587 - val_mse: 30.1270\n",
            "Epoch 25/200\n",
            "2604/2604 [==============================] - 4s 1ms/step - loss: 4.0059 - mae: 4.0059 - mse: 29.4053 - val_loss: 4.0343 - val_mae: 4.0343 - val_mse: 29.7888\n",
            "Epoch 26/200\n",
            "2604/2604 [==============================] - 4s 1ms/step - loss: 3.9819 - mae: 3.9819 - mse: 29.0715 - val_loss: 4.0103 - val_mae: 4.0103 - val_mse: 29.4327\n",
            "Epoch 27/200\n",
            "2604/2604 [==============================] - 4s 1ms/step - loss: 3.9582 - mae: 3.9582 - mse: 28.7280 - val_loss: 3.9864 - val_mae: 3.9864 - val_mse: 29.0898\n",
            "Epoch 28/200\n",
            "2604/2604 [==============================] - 4s 1ms/step - loss: 3.9347 - mae: 3.9347 - mse: 28.3984 - val_loss: 3.9629 - val_mae: 3.9629 - val_mse: 28.7525\n",
            "Epoch 29/200\n",
            "2604/2604 [==============================] - 4s 1ms/step - loss: 3.9117 - mae: 3.9117 - mse: 28.0849 - val_loss: 3.9396 - val_mae: 3.9396 - val_mse: 28.4454\n",
            "Epoch 30/200\n",
            "2604/2604 [==============================] - 3s 1ms/step - loss: 3.8887 - mae: 3.8887 - mse: 27.7733 - val_loss: 3.9161 - val_mae: 3.9161 - val_mse: 28.1804\n",
            "Epoch 31/200\n",
            "2604/2604 [==============================] - 4s 1ms/step - loss: 3.8658 - mae: 3.8658 - mse: 27.5019 - val_loss: 3.8932 - val_mae: 3.8932 - val_mse: 27.8367\n",
            "Epoch 32/200\n",
            "2604/2604 [==============================] - 4s 1ms/step - loss: 3.8435 - mae: 3.8435 - mse: 27.1746 - val_loss: 3.8704 - val_mae: 3.8704 - val_mse: 27.5569\n",
            "Epoch 33/200\n",
            "2604/2604 [==============================] - 4s 1ms/step - loss: 3.8214 - mae: 3.8214 - mse: 26.8934 - val_loss: 3.8482 - val_mae: 3.8482 - val_mse: 27.2569\n",
            "Epoch 34/200\n",
            "2604/2604 [==============================] - 4s 1ms/step - loss: 3.7997 - mae: 3.7997 - mse: 26.6054 - val_loss: 3.8263 - val_mae: 3.8263 - val_mse: 26.9598\n",
            "Epoch 35/200\n",
            "2604/2604 [==============================] - 3s 1ms/step - loss: 3.7785 - mae: 3.7785 - mse: 26.3112 - val_loss: 3.8059 - val_mae: 3.8059 - val_mse: 26.6441\n",
            "Epoch 36/200\n",
            "2604/2604 [==============================] - 4s 1ms/step - loss: 3.7595 - mae: 3.7595 - mse: 26.0197 - val_loss: 3.7871 - val_mae: 3.7871 - val_mse: 26.3462\n",
            "Epoch 37/200\n",
            "2604/2604 [==============================] - 4s 1ms/step - loss: 3.7411 - mae: 3.7411 - mse: 25.7437 - val_loss: 3.7684 - val_mae: 3.7684 - val_mse: 26.0748\n",
            "Epoch 38/200\n",
            "2604/2604 [==============================] - 4s 1ms/step - loss: 3.7230 - mae: 3.7230 - mse: 25.4891 - val_loss: 3.7502 - val_mae: 3.7502 - val_mse: 25.8278\n",
            "Epoch 39/200\n",
            "2604/2604 [==============================] - 3s 1ms/step - loss: 3.7055 - mae: 3.7055 - mse: 25.2435 - val_loss: 3.7324 - val_mae: 3.7324 - val_mse: 25.5807\n",
            "Epoch 40/200\n",
            "2604/2604 [==============================] - 4s 1ms/step - loss: 3.6882 - mae: 3.6882 - mse: 25.0020 - val_loss: 3.7146 - val_mae: 3.7146 - val_mse: 25.3518\n",
            "Epoch 41/200\n",
            "2604/2604 [==============================] - 4s 1ms/step - loss: 3.6713 - mae: 3.6713 - mse: 24.7633 - val_loss: 3.6975 - val_mae: 3.6975 - val_mse: 25.1012\n",
            "Epoch 42/200\n",
            "2604/2604 [==============================] - 3s 1ms/step - loss: 3.6548 - mae: 3.6548 - mse: 24.5455 - val_loss: 3.6808 - val_mae: 3.6808 - val_mse: 24.8434\n",
            "Epoch 43/200\n",
            "2604/2604 [==============================] - 4s 1ms/step - loss: 3.6383 - mae: 3.6383 - mse: 24.3200 - val_loss: 3.6639 - val_mae: 3.6639 - val_mse: 24.6691\n",
            "Epoch 44/200\n",
            "2604/2604 [==============================] - 3s 1ms/step - loss: 3.6223 - mae: 3.6223 - mse: 24.0989 - val_loss: 3.6477 - val_mae: 3.6477 - val_mse: 24.4156\n",
            "Epoch 45/200\n",
            "2604/2604 [==============================] - 4s 1ms/step - loss: 3.6066 - mae: 3.6066 - mse: 23.8722 - val_loss: 3.6320 - val_mae: 3.6320 - val_mse: 24.1892\n",
            "Epoch 46/200\n",
            "2604/2604 [==============================] - 3s 1ms/step - loss: 3.5913 - mae: 3.5913 - mse: 23.6756 - val_loss: 3.6166 - val_mae: 3.6166 - val_mse: 23.9633\n",
            "Epoch 47/200\n",
            "2604/2604 [==============================] - 3s 1ms/step - loss: 3.5762 - mae: 3.5762 - mse: 23.4767 - val_loss: 3.6015 - val_mae: 3.6015 - val_mse: 23.7603\n",
            "Epoch 48/200\n",
            "2604/2604 [==============================] - 4s 1ms/step - loss: 3.5616 - mae: 3.5616 - mse: 23.2843 - val_loss: 3.5869 - val_mae: 3.5869 - val_mse: 23.5555\n",
            "Epoch 49/200\n",
            "2604/2604 [==============================] - 4s 2ms/step - loss: 3.5474 - mae: 3.5474 - mse: 23.0742 - val_loss: 3.5725 - val_mae: 3.5725 - val_mse: 23.3972\n",
            "Epoch 50/200\n",
            "2604/2604 [==============================] - 4s 1ms/step - loss: 3.5336 - mae: 3.5336 - mse: 22.8984 - val_loss: 3.5587 - val_mae: 3.5587 - val_mse: 23.1944\n",
            "Epoch 51/200\n",
            "2604/2604 [==============================] - 4s 1ms/step - loss: 3.5200 - mae: 3.5200 - mse: 22.7276 - val_loss: 3.5451 - val_mae: 3.5451 - val_mse: 22.9918\n",
            "Epoch 52/200\n",
            "2604/2604 [==============================] - 3s 1ms/step - loss: 3.5067 - mae: 3.5067 - mse: 22.5352 - val_loss: 3.5319 - val_mae: 3.5319 - val_mse: 22.8037\n",
            "Epoch 53/200\n",
            "2604/2604 [==============================] - 4s 2ms/step - loss: 3.4939 - mae: 3.4939 - mse: 22.3578 - val_loss: 3.5187 - val_mae: 3.5187 - val_mse: 22.6458\n",
            "Epoch 54/200\n",
            "2604/2604 [==============================] - 4s 1ms/step - loss: 3.4814 - mae: 3.4814 - mse: 22.2076 - val_loss: 3.5061 - val_mae: 3.5061 - val_mse: 22.4791\n",
            "Epoch 55/200\n",
            "2604/2604 [==============================] - 4s 1ms/step - loss: 3.4695 - mae: 3.4695 - mse: 22.0464 - val_loss: 3.4942 - val_mae: 3.4942 - val_mse: 22.2905\n",
            "Epoch 56/200\n",
            "2604/2604 [==============================] - 3s 1ms/step - loss: 3.4580 - mae: 3.4580 - mse: 21.8818 - val_loss: 3.4821 - val_mae: 3.4821 - val_mse: 22.1387\n",
            "Epoch 57/200\n",
            "2604/2604 [==============================] - 3s 1ms/step - loss: 3.4465 - mae: 3.4465 - mse: 21.7304 - val_loss: 3.4703 - val_mae: 3.4703 - val_mse: 21.9814\n",
            "Epoch 58/200\n",
            "2604/2604 [==============================] - 4s 2ms/step - loss: 3.4354 - mae: 3.4354 - mse: 21.5736 - val_loss: 3.4591 - val_mae: 3.4591 - val_mse: 21.8118\n",
            "Epoch 59/200\n",
            "2604/2604 [==============================] - 4s 1ms/step - loss: 3.4248 - mae: 3.4248 - mse: 21.4192 - val_loss: 3.4478 - val_mae: 3.4478 - val_mse: 21.6976\n",
            "Epoch 60/200\n",
            "2604/2604 [==============================] - 4s 1ms/step - loss: 3.4145 - mae: 3.4145 - mse: 21.2928 - val_loss: 3.4372 - val_mae: 3.4372 - val_mse: 21.5769\n",
            "Epoch 61/200\n",
            "2604/2604 [==============================] - 4s 2ms/step - loss: 3.4046 - mae: 3.4046 - mse: 21.1631 - val_loss: 3.4271 - val_mae: 3.4271 - val_mse: 21.4133\n",
            "Epoch 62/200\n",
            "2604/2604 [==============================] - 4s 2ms/step - loss: 3.3950 - mae: 3.3950 - mse: 21.0314 - val_loss: 3.4175 - val_mae: 3.4175 - val_mse: 21.2520\n",
            "Epoch 63/200\n",
            "2604/2604 [==============================] - 3s 1ms/step - loss: 3.3857 - mae: 3.3857 - mse: 20.8913 - val_loss: 3.4077 - val_mae: 3.4077 - val_mse: 21.1697\n",
            "Epoch 64/200\n",
            "2604/2604 [==============================] - 4s 2ms/step - loss: 3.3766 - mae: 3.3766 - mse: 20.7773 - val_loss: 3.3984 - val_mae: 3.3984 - val_mse: 21.0278\n",
            "Epoch 65/200\n",
            "2604/2604 [==============================] - 4s 2ms/step - loss: 3.3678 - mae: 3.3678 - mse: 20.6605 - val_loss: 3.3894 - val_mae: 3.3894 - val_mse: 20.9018\n",
            "Epoch 66/200\n",
            "2604/2604 [==============================] - 3s 1ms/step - loss: 3.3592 - mae: 3.3592 - mse: 20.5406 - val_loss: 3.3807 - val_mae: 3.3807 - val_mse: 20.7989\n",
            "Epoch 67/200\n",
            "2604/2604 [==============================] - 3s 1ms/step - loss: 3.3509 - mae: 3.3509 - mse: 20.4312 - val_loss: 3.3726 - val_mae: 3.3726 - val_mse: 20.6386\n",
            "Epoch 68/200\n",
            "2604/2604 [==============================] - 3s 1ms/step - loss: 3.3429 - mae: 3.3429 - mse: 20.3134 - val_loss: 3.3641 - val_mae: 3.3641 - val_mse: 20.5813\n",
            "Epoch 69/200\n",
            "2604/2604 [==============================] - 3s 1ms/step - loss: 3.3352 - mae: 3.3352 - mse: 20.2141 - val_loss: 3.3562 - val_mae: 3.3562 - val_mse: 20.4783\n",
            "Epoch 70/200\n",
            "2604/2604 [==============================] - 4s 2ms/step - loss: 3.3279 - mae: 3.3279 - mse: 20.1213 - val_loss: 3.3488 - val_mae: 3.3488 - val_mse: 20.3349\n",
            "Epoch 71/200\n",
            "2604/2604 [==============================] - 3s 1ms/step - loss: 3.3208 - mae: 3.3208 - mse: 20.0130 - val_loss: 3.3413 - val_mae: 3.3413 - val_mse: 20.2751\n",
            "Epoch 72/200\n",
            "2604/2604 [==============================] - 3s 1ms/step - loss: 3.3140 - mae: 3.3140 - mse: 19.9296 - val_loss: 3.3344 - val_mae: 3.3344 - val_mse: 20.1440\n",
            "Epoch 73/200\n",
            "2604/2604 [==============================] - 3s 1ms/step - loss: 3.3074 - mae: 3.3074 - mse: 19.8306 - val_loss: 3.3276 - val_mae: 3.3276 - val_mse: 20.0482\n",
            "Epoch 74/200\n",
            "2604/2604 [==============================] - 4s 2ms/step - loss: 3.3009 - mae: 3.3009 - mse: 19.7466 - val_loss: 3.3210 - val_mae: 3.3210 - val_mse: 19.9586\n",
            "Epoch 75/200\n",
            "2604/2604 [==============================] - 4s 1ms/step - loss: 3.2948 - mae: 3.2948 - mse: 19.6605 - val_loss: 3.3145 - val_mae: 3.3145 - val_mse: 19.8834\n",
            "Epoch 76/200\n",
            "2604/2604 [==============================] - 3s 1ms/step - loss: 3.2888 - mae: 3.2888 - mse: 19.5783 - val_loss: 3.3083 - val_mae: 3.3083 - val_mse: 19.7922\n",
            "Epoch 77/200\n",
            "2604/2604 [==============================] - 3s 1ms/step - loss: 3.2828 - mae: 3.2828 - mse: 19.4986 - val_loss: 3.3021 - val_mae: 3.3021 - val_mse: 19.7088\n",
            "Epoch 78/200\n",
            "2604/2604 [==============================] - 3s 1ms/step - loss: 3.2771 - mae: 3.2771 - mse: 19.4199 - val_loss: 3.2962 - val_mae: 3.2962 - val_mse: 19.6372\n",
            "Epoch 79/200\n",
            "2604/2604 [==============================] - 3s 1ms/step - loss: 3.2717 - mae: 3.2717 - mse: 19.3466 - val_loss: 3.2907 - val_mae: 3.2907 - val_mse: 19.5499\n",
            "Epoch 80/200\n",
            "2604/2604 [==============================] - 3s 1ms/step - loss: 3.2665 - mae: 3.2665 - mse: 19.2719 - val_loss: 3.2853 - val_mae: 3.2853 - val_mse: 19.4962\n",
            "Epoch 81/200\n",
            "2604/2604 [==============================] - 4s 2ms/step - loss: 3.2615 - mae: 3.2615 - mse: 19.2081 - val_loss: 3.2804 - val_mae: 3.2804 - val_mse: 19.4002\n",
            "Epoch 82/200\n",
            "2604/2604 [==============================] - 3s 1ms/step - loss: 3.2568 - mae: 3.2568 - mse: 19.1407 - val_loss: 3.2753 - val_mae: 3.2753 - val_mse: 19.3548\n",
            "Epoch 83/200\n",
            "2604/2604 [==============================] - 4s 1ms/step - loss: 3.2521 - mae: 3.2521 - mse: 19.0793 - val_loss: 3.2705 - val_mae: 3.2705 - val_mse: 19.2769\n",
            "Epoch 84/200\n",
            "2604/2604 [==============================] - 4s 1ms/step - loss: 3.2476 - mae: 3.2476 - mse: 19.0149 - val_loss: 3.2658 - val_mae: 3.2658 - val_mse: 19.2311\n",
            "Epoch 85/200\n",
            "2604/2604 [==============================] - 4s 2ms/step - loss: 3.2432 - mae: 3.2432 - mse: 18.9558 - val_loss: 3.2613 - val_mae: 3.2613 - val_mse: 19.1671\n",
            "Epoch 86/200\n",
            "2604/2604 [==============================] - 3s 1ms/step - loss: 3.2389 - mae: 3.2389 - mse: 18.8991 - val_loss: 3.2571 - val_mae: 3.2571 - val_mse: 19.0833\n",
            "Epoch 87/200\n",
            "2604/2604 [==============================] - 4s 2ms/step - loss: 3.2347 - mae: 3.2347 - mse: 18.8440 - val_loss: 3.2530 - val_mae: 3.2530 - val_mse: 19.0201\n",
            "Epoch 88/200\n",
            "2604/2604 [==============================] - 4s 2ms/step - loss: 3.2307 - mae: 3.2307 - mse: 18.7897 - val_loss: 3.2483 - val_mae: 3.2483 - val_mse: 18.9833\n",
            "Epoch 89/200\n",
            "2604/2604 [==============================] - 3s 1ms/step - loss: 3.2266 - mae: 3.2266 - mse: 18.7374 - val_loss: 3.2441 - val_mae: 3.2441 - val_mse: 18.9370\n",
            "Epoch 90/200\n",
            "2604/2604 [==============================] - 3s 1ms/step - loss: 3.2226 - mae: 3.2226 - mse: 18.6867 - val_loss: 3.2398 - val_mae: 3.2398 - val_mse: 18.8742\n",
            "Epoch 91/200\n",
            "2604/2604 [==============================] - 3s 1ms/step - loss: 3.2185 - mae: 3.2185 - mse: 18.6371 - val_loss: 3.2362 - val_mae: 3.2362 - val_mse: 18.8127\n",
            "Epoch 92/200\n",
            "2604/2604 [==============================] - 3s 1ms/step - loss: 3.2153 - mae: 3.2153 - mse: 18.5944 - val_loss: 3.2331 - val_mae: 3.2331 - val_mse: 18.7861\n",
            "Epoch 93/200\n",
            "2604/2604 [==============================] - 4s 1ms/step - loss: 3.2132 - mae: 3.2132 - mse: 18.5597 - val_loss: 3.2309 - val_mae: 3.2309 - val_mse: 18.7551\n",
            "Epoch 94/200\n",
            "2604/2604 [==============================] - 3s 1ms/step - loss: 3.2112 - mae: 3.2112 - mse: 18.5257 - val_loss: 3.2286 - val_mae: 3.2286 - val_mse: 18.7170\n",
            "Epoch 95/200\n",
            "2604/2604 [==============================] - 3s 1ms/step - loss: 3.2091 - mae: 3.2091 - mse: 18.4922 - val_loss: 3.2264 - val_mae: 3.2264 - val_mse: 18.6765\n",
            "Epoch 96/200\n",
            "2604/2604 [==============================] - 4s 1ms/step - loss: 3.2071 - mae: 3.2071 - mse: 18.4587 - val_loss: 3.2244 - val_mae: 3.2244 - val_mse: 18.6561\n",
            "Epoch 97/200\n",
            "2604/2604 [==============================] - 4s 2ms/step - loss: 3.2050 - mae: 3.2050 - mse: 18.4261 - val_loss: 3.2220 - val_mae: 3.2220 - val_mse: 18.6088\n",
            "Epoch 98/200\n",
            "2604/2604 [==============================] - 4s 2ms/step - loss: 3.2029 - mae: 3.2029 - mse: 18.3938 - val_loss: 3.2198 - val_mae: 3.2198 - val_mse: 18.5812\n",
            "Epoch 99/200\n",
            "2604/2604 [==============================] - 4s 2ms/step - loss: 3.2009 - mae: 3.2009 - mse: 18.3631 - val_loss: 3.2177 - val_mae: 3.2177 - val_mse: 18.5309\n",
            "Epoch 100/200\n",
            "2604/2604 [==============================] - 4s 1ms/step - loss: 3.1989 - mae: 3.1989 - mse: 18.3315 - val_loss: 3.2156 - val_mae: 3.2156 - val_mse: 18.5164\n",
            "Epoch 101/200\n",
            "2604/2604 [==============================] - 4s 2ms/step - loss: 3.1970 - mae: 3.1970 - mse: 18.3034 - val_loss: 3.2136 - val_mae: 3.2136 - val_mse: 18.4709\n",
            "Epoch 102/200\n",
            "2604/2604 [==============================] - 4s 2ms/step - loss: 3.1952 - mae: 3.1952 - mse: 18.2744 - val_loss: 3.2116 - val_mae: 3.2116 - val_mse: 18.4412\n",
            "Epoch 103/200\n",
            "2604/2604 [==============================] - 3s 1ms/step - loss: 3.1933 - mae: 3.1933 - mse: 18.2459 - val_loss: 3.2096 - val_mae: 3.2096 - val_mse: 18.4241\n",
            "Epoch 104/200\n",
            "2604/2604 [==============================] - 4s 1ms/step - loss: 3.1915 - mae: 3.1915 - mse: 18.2201 - val_loss: 3.2078 - val_mae: 3.2078 - val_mse: 18.3815\n",
            "Epoch 105/200\n",
            "2604/2604 [==============================] - 3s 1ms/step - loss: 3.1897 - mae: 3.1897 - mse: 18.1942 - val_loss: 3.2059 - val_mae: 3.2059 - val_mse: 18.3586\n",
            "Epoch 106/200\n",
            "2604/2604 [==============================] - 3s 1ms/step - loss: 3.1880 - mae: 3.1880 - mse: 18.1689 - val_loss: 3.2041 - val_mae: 3.2041 - val_mse: 18.3382\n",
            "Epoch 107/200\n",
            "2604/2604 [==============================] - 4s 2ms/step - loss: 3.1865 - mae: 3.1865 - mse: 18.1459 - val_loss: 3.2025 - val_mae: 3.2025 - val_mse: 18.3095\n",
            "Epoch 108/200\n",
            "2604/2604 [==============================] - 4s 2ms/step - loss: 3.1850 - mae: 3.1850 - mse: 18.1226 - val_loss: 3.2009 - val_mae: 3.2009 - val_mse: 18.2836\n",
            "Epoch 109/200\n",
            "2604/2604 [==============================] - 3s 1ms/step - loss: 3.1834 - mae: 3.1834 - mse: 18.1044 - val_loss: 3.1995 - val_mae: 3.1995 - val_mse: 18.2492\n",
            "Epoch 110/200\n",
            "2604/2604 [==============================] - 3s 1ms/step - loss: 3.1821 - mae: 3.1821 - mse: 18.0794 - val_loss: 3.1981 - val_mae: 3.1981 - val_mse: 18.2231\n",
            "Epoch 111/200\n",
            "2604/2604 [==============================] - 3s 1ms/step - loss: 3.1808 - mae: 3.1808 - mse: 18.0588 - val_loss: 3.1965 - val_mae: 3.1965 - val_mse: 18.2210\n",
            "Epoch 112/200\n",
            "2604/2604 [==============================] - 4s 2ms/step - loss: 3.1795 - mae: 3.1795 - mse: 18.0400 - val_loss: 3.1951 - val_mae: 3.1951 - val_mse: 18.2028\n",
            "Epoch 113/200\n",
            "2604/2604 [==============================] - 4s 2ms/step - loss: 3.1782 - mae: 3.1782 - mse: 18.0229 - val_loss: 3.1938 - val_mae: 3.1938 - val_mse: 18.1802\n",
            "Epoch 114/200\n",
            "2604/2604 [==============================] - 5s 2ms/step - loss: 3.1771 - mae: 3.1771 - mse: 18.0045 - val_loss: 3.1926 - val_mae: 3.1926 - val_mse: 18.1588\n",
            "Epoch 115/200\n",
            "2604/2604 [==============================] - 4s 2ms/step - loss: 3.1760 - mae: 3.1760 - mse: 17.9865 - val_loss: 3.1914 - val_mae: 3.1914 - val_mse: 18.1418\n",
            "Epoch 116/200\n",
            "2604/2604 [==============================] - 4s 2ms/step - loss: 3.1749 - mae: 3.1749 - mse: 17.9713 - val_loss: 3.1903 - val_mae: 3.1903 - val_mse: 18.1165\n",
            "Epoch 117/200\n",
            "2604/2604 [==============================] - 4s 2ms/step - loss: 3.1738 - mae: 3.1738 - mse: 17.9519 - val_loss: 3.1892 - val_mae: 3.1892 - val_mse: 18.1303\n",
            "Epoch 118/200\n",
            "2604/2604 [==============================] - 3s 1ms/step - loss: 3.1728 - mae: 3.1728 - mse: 17.9401 - val_loss: 3.1880 - val_mae: 3.1880 - val_mse: 18.1113\n",
            "Epoch 119/200\n",
            "2604/2604 [==============================] - 4s 2ms/step - loss: 3.1717 - mae: 3.1717 - mse: 17.9273 - val_loss: 3.1869 - val_mae: 3.1869 - val_mse: 18.0745\n",
            "Epoch 120/200\n",
            "2604/2604 [==============================] - 4s 2ms/step - loss: 3.1707 - mae: 3.1707 - mse: 17.9117 - val_loss: 3.1858 - val_mae: 3.1858 - val_mse: 18.0660\n",
            "Epoch 121/200\n",
            "2604/2604 [==============================] - 3s 1ms/step - loss: 3.1698 - mae: 3.1698 - mse: 17.8999 - val_loss: 3.1849 - val_mae: 3.1849 - val_mse: 18.0337\n",
            "Epoch 122/200\n",
            "2604/2604 [==============================] - 4s 2ms/step - loss: 3.1688 - mae: 3.1688 - mse: 17.8864 - val_loss: 3.1840 - val_mae: 3.1840 - val_mse: 18.0126\n",
            "Epoch 123/200\n",
            "2604/2604 [==============================] - 3s 1ms/step - loss: 3.1679 - mae: 3.1679 - mse: 17.8730 - val_loss: 3.1829 - val_mae: 3.1829 - val_mse: 18.0084\n",
            "Epoch 124/200\n",
            "2604/2604 [==============================] - 4s 2ms/step - loss: 3.1671 - mae: 3.1671 - mse: 17.8598 - val_loss: 3.1820 - val_mae: 3.1820 - val_mse: 18.0033\n",
            "Epoch 125/200\n",
            "2604/2604 [==============================] - 3s 1ms/step - loss: 3.1662 - mae: 3.1662 - mse: 17.8490 - val_loss: 3.1811 - val_mae: 3.1811 - val_mse: 17.9890\n",
            "Epoch 126/200\n",
            "2604/2604 [==============================] - 4s 2ms/step - loss: 3.1654 - mae: 3.1654 - mse: 17.8350 - val_loss: 3.1802 - val_mae: 3.1802 - val_mse: 17.9807\n",
            "Epoch 127/200\n",
            "2604/2604 [==============================] - 3s 1ms/step - loss: 3.1646 - mae: 3.1646 - mse: 17.8220 - val_loss: 3.1796 - val_mae: 3.1796 - val_mse: 18.0014\n",
            "Epoch 128/200\n",
            "2604/2604 [==============================] - 3s 1ms/step - loss: 3.1640 - mae: 3.1640 - mse: 17.8220 - val_loss: 3.1786 - val_mae: 3.1786 - val_mse: 17.9546\n",
            "Epoch 129/200\n",
            "2604/2604 [==============================] - 4s 2ms/step - loss: 3.1632 - mae: 3.1632 - mse: 17.8057 - val_loss: 3.1779 - val_mae: 3.1779 - val_mse: 17.9593\n",
            "Epoch 130/200\n",
            "2604/2604 [==============================] - 4s 2ms/step - loss: 3.1625 - mae: 3.1625 - mse: 17.7961 - val_loss: 3.1772 - val_mae: 3.1772 - val_mse: 17.9504\n",
            "Epoch 131/200\n",
            "2604/2604 [==============================] - 4s 2ms/step - loss: 3.1619 - mae: 3.1619 - mse: 17.7890 - val_loss: 3.1764 - val_mae: 3.1764 - val_mse: 17.9365\n",
            "Epoch 132/200\n",
            "2604/2604 [==============================] - 4s 2ms/step - loss: 3.1612 - mae: 3.1612 - mse: 17.7814 - val_loss: 3.1757 - val_mae: 3.1757 - val_mse: 17.9147\n",
            "Epoch 133/200\n",
            "2604/2604 [==============================] - 4s 2ms/step - loss: 3.1606 - mae: 3.1606 - mse: 17.7691 - val_loss: 3.1750 - val_mae: 3.1750 - val_mse: 17.9050\n",
            "Epoch 134/200\n",
            "2604/2604 [==============================] - 3s 1ms/step - loss: 3.1600 - mae: 3.1600 - mse: 17.7602 - val_loss: 3.1745 - val_mae: 3.1745 - val_mse: 17.9239\n",
            "Epoch 135/200\n",
            "2604/2604 [==============================] - 4s 2ms/step - loss: 3.1593 - mae: 3.1593 - mse: 17.7654 - val_loss: 3.1740 - val_mae: 3.1740 - val_mse: 17.8598\n",
            "Epoch 136/200\n",
            "2604/2604 [==============================] - 4s 2ms/step - loss: 3.1589 - mae: 3.1589 - mse: 17.7395 - val_loss: 3.1732 - val_mae: 3.1732 - val_mse: 17.8967\n",
            "Epoch 137/200\n",
            "2604/2604 [==============================] - 4s 2ms/step - loss: 3.1583 - mae: 3.1583 - mse: 17.7423 - val_loss: 3.1727 - val_mae: 3.1727 - val_mse: 17.8639\n",
            "Epoch 138/200\n",
            "2604/2604 [==============================] - 3s 1ms/step - loss: 3.1578 - mae: 3.1578 - mse: 17.7350 - val_loss: 3.1720 - val_mae: 3.1720 - val_mse: 17.8648\n",
            "Epoch 139/200\n",
            "2604/2604 [==============================] - 4s 2ms/step - loss: 3.1573 - mae: 3.1573 - mse: 17.7269 - val_loss: 3.1716 - val_mae: 3.1716 - val_mse: 17.8477\n",
            "Epoch 140/200\n",
            "2604/2604 [==============================] - 3s 1ms/step - loss: 3.1568 - mae: 3.1568 - mse: 17.7194 - val_loss: 3.1710 - val_mae: 3.1710 - val_mse: 17.8383\n",
            "Epoch 141/200\n",
            "2604/2604 [==============================] - 4s 2ms/step - loss: 3.1564 - mae: 3.1564 - mse: 17.7123 - val_loss: 3.1705 - val_mae: 3.1705 - val_mse: 17.8487\n",
            "Epoch 142/200\n",
            "2604/2604 [==============================] - 3s 1ms/step - loss: 3.1559 - mae: 3.1559 - mse: 17.7075 - val_loss: 3.1700 - val_mae: 3.1700 - val_mse: 17.8521\n",
            "Epoch 143/200\n",
            "2604/2604 [==============================] - 4s 2ms/step - loss: 3.1555 - mae: 3.1555 - mse: 17.7044 - val_loss: 3.1695 - val_mae: 3.1695 - val_mse: 17.8304\n",
            "Epoch 144/200\n",
            "2604/2604 [==============================] - 3s 1ms/step - loss: 3.1551 - mae: 3.1551 - mse: 17.7013 - val_loss: 3.1690 - val_mae: 3.1690 - val_mse: 17.8238\n",
            "Epoch 145/200\n",
            "2604/2604 [==============================] - 3s 1ms/step - loss: 3.1547 - mae: 3.1547 - mse: 17.6923 - val_loss: 3.1686 - val_mae: 3.1686 - val_mse: 17.8115\n",
            "Epoch 146/200\n",
            "2604/2604 [==============================] - 3s 1ms/step - loss: 3.1543 - mae: 3.1543 - mse: 17.6898 - val_loss: 3.1682 - val_mae: 3.1682 - val_mse: 17.7997\n",
            "Epoch 147/200\n",
            "2604/2604 [==============================] - 4s 2ms/step - loss: 3.1539 - mae: 3.1539 - mse: 17.6809 - val_loss: 3.1678 - val_mae: 3.1678 - val_mse: 17.8232\n",
            "Epoch 148/200\n",
            "2604/2604 [==============================] - 4s 2ms/step - loss: 3.1535 - mae: 3.1535 - mse: 17.6840 - val_loss: 3.1676 - val_mae: 3.1676 - val_mse: 17.7696\n",
            "Epoch 149/200\n",
            "2604/2604 [==============================] - 3s 1ms/step - loss: 3.1532 - mae: 3.1532 - mse: 17.6701 - val_loss: 3.1670 - val_mae: 3.1670 - val_mse: 17.8162\n",
            "Epoch 150/200\n",
            "2604/2604 [==============================] - 3s 1ms/step - loss: 3.1529 - mae: 3.1529 - mse: 17.6711 - val_loss: 3.1666 - val_mae: 3.1666 - val_mse: 17.8128\n",
            "Epoch 151/200\n",
            "2604/2604 [==============================] - 4s 2ms/step - loss: 3.1525 - mae: 3.1525 - mse: 17.6666 - val_loss: 3.1662 - val_mae: 3.1662 - val_mse: 17.7847\n",
            "Epoch 152/200\n",
            "2604/2604 [==============================] - 3s 1ms/step - loss: 3.1522 - mae: 3.1522 - mse: 17.6622 - val_loss: 3.1659 - val_mae: 3.1659 - val_mse: 17.7918\n",
            "Epoch 153/200\n",
            "2604/2604 [==============================] - 4s 2ms/step - loss: 3.1519 - mae: 3.1519 - mse: 17.6581 - val_loss: 3.1655 - val_mae: 3.1655 - val_mse: 17.7719\n",
            "Epoch 154/200\n",
            "2604/2604 [==============================] - 3s 1ms/step - loss: 3.1516 - mae: 3.1516 - mse: 17.6562 - val_loss: 3.1651 - val_mae: 3.1651 - val_mse: 17.7781\n",
            "Epoch 155/200\n",
            "2604/2604 [==============================] - 4s 2ms/step - loss: 3.1513 - mae: 3.1513 - mse: 17.6530 - val_loss: 3.1648 - val_mae: 3.1648 - val_mse: 17.7721\n",
            "Epoch 156/200\n",
            "2604/2604 [==============================] - 3s 1ms/step - loss: 3.1510 - mae: 3.1510 - mse: 17.6537 - val_loss: 3.1645 - val_mae: 3.1645 - val_mse: 17.7795\n",
            "Epoch 157/200\n",
            "2604/2604 [==============================] - 3s 1ms/step - loss: 3.1508 - mae: 3.1508 - mse: 17.6490 - val_loss: 3.1642 - val_mae: 3.1642 - val_mse: 17.7686\n",
            "Epoch 158/200\n",
            "2604/2604 [==============================] - 4s 2ms/step - loss: 3.1504 - mae: 3.1504 - mse: 17.6408 - val_loss: 3.1640 - val_mae: 3.1640 - val_mse: 17.7895\n",
            "Epoch 159/200\n",
            "2604/2604 [==============================] - 4s 2ms/step - loss: 3.1502 - mae: 3.1502 - mse: 17.6445 - val_loss: 3.1636 - val_mae: 3.1636 - val_mse: 17.7601\n",
            "Epoch 160/200\n",
            "2604/2604 [==============================] - 4s 2ms/step - loss: 3.1499 - mae: 3.1499 - mse: 17.6381 - val_loss: 3.1633 - val_mae: 3.1633 - val_mse: 17.7515\n",
            "Epoch 161/200\n",
            "2604/2604 [==============================] - 4s 2ms/step - loss: 3.1497 - mae: 3.1497 - mse: 17.6412 - val_loss: 3.1631 - val_mae: 3.1631 - val_mse: 17.7401\n",
            "Epoch 162/200\n",
            "2604/2604 [==============================] - 4s 2ms/step - loss: 3.1495 - mae: 3.1495 - mse: 17.6334 - val_loss: 3.1628 - val_mae: 3.1628 - val_mse: 17.7388\n",
            "Epoch 163/200\n",
            "2604/2604 [==============================] - 4s 2ms/step - loss: 3.1492 - mae: 3.1492 - mse: 17.6290 - val_loss: 3.1625 - val_mae: 3.1625 - val_mse: 17.7568\n",
            "Epoch 164/200\n",
            "2604/2604 [==============================] - 3s 1ms/step - loss: 3.1490 - mae: 3.1490 - mse: 17.6289 - val_loss: 3.1624 - val_mae: 3.1624 - val_mse: 17.7780\n",
            "Epoch 165/200\n",
            "2604/2604 [==============================] - 4s 2ms/step - loss: 3.1488 - mae: 3.1488 - mse: 17.6290 - val_loss: 3.1621 - val_mae: 3.1621 - val_mse: 17.7699\n",
            "Epoch 166/200\n",
            "2604/2604 [==============================] - 3s 1ms/step - loss: 3.1486 - mae: 3.1486 - mse: 17.6342 - val_loss: 3.1618 - val_mae: 3.1618 - val_mse: 17.7337\n",
            "Epoch 167/200\n",
            "2604/2604 [==============================] - 4s 2ms/step - loss: 3.1484 - mae: 3.1484 - mse: 17.6225 - val_loss: 3.1616 - val_mae: 3.1616 - val_mse: 17.7482\n",
            "Epoch 168/200\n",
            "2604/2604 [==============================] - 4s 1ms/step - loss: 3.1482 - mae: 3.1482 - mse: 17.6312 - val_loss: 3.1613 - val_mae: 3.1613 - val_mse: 17.7217\n",
            "Epoch 169/200\n",
            "2604/2604 [==============================] - 4s 2ms/step - loss: 3.1480 - mae: 3.1480 - mse: 17.6201 - val_loss: 3.1612 - val_mae: 3.1612 - val_mse: 17.7143\n",
            "Epoch 170/200\n",
            "2604/2604 [==============================] - 4s 2ms/step - loss: 3.1478 - mae: 3.1478 - mse: 17.6188 - val_loss: 3.1609 - val_mae: 3.1609 - val_mse: 17.7277\n",
            "Epoch 171/200\n",
            "2604/2604 [==============================] - 4s 2ms/step - loss: 3.1476 - mae: 3.1476 - mse: 17.6141 - val_loss: 3.1608 - val_mae: 3.1608 - val_mse: 17.7512\n",
            "Epoch 172/200\n",
            "2604/2604 [==============================] - 4s 2ms/step - loss: 3.1474 - mae: 3.1474 - mse: 17.6269 - val_loss: 3.1607 - val_mae: 3.1607 - val_mse: 17.7033\n",
            "Epoch 173/200\n",
            "2604/2604 [==============================] - 4s 2ms/step - loss: 3.1473 - mae: 3.1473 - mse: 17.6177 - val_loss: 3.1603 - val_mae: 3.1603 - val_mse: 17.7110\n",
            "Epoch 174/200\n",
            "2604/2604 [==============================] - 4s 2ms/step - loss: 3.1471 - mae: 3.1471 - mse: 17.6125 - val_loss: 3.1602 - val_mae: 3.1602 - val_mse: 17.7139\n",
            "Epoch 175/200\n",
            "2604/2604 [==============================] - 4s 2ms/step - loss: 3.1470 - mae: 3.1470 - mse: 17.6187 - val_loss: 3.1601 - val_mae: 3.1601 - val_mse: 17.6997\n",
            "Epoch 176/200\n",
            "2604/2604 [==============================] - 4s 2ms/step - loss: 3.1469 - mae: 3.1469 - mse: 17.6119 - val_loss: 3.1598 - val_mae: 3.1598 - val_mse: 17.7135\n",
            "Epoch 177/200\n",
            "2604/2604 [==============================] - 4s 2ms/step - loss: 3.1467 - mae: 3.1467 - mse: 17.6076 - val_loss: 3.1597 - val_mae: 3.1597 - val_mse: 17.7326\n",
            "Epoch 178/200\n",
            "2604/2604 [==============================] - 4s 2ms/step - loss: 3.1466 - mae: 3.1466 - mse: 17.6175 - val_loss: 3.1596 - val_mae: 3.1596 - val_mse: 17.6986\n",
            "Epoch 179/200\n",
            "2604/2604 [==============================] - 3s 1ms/step - loss: 3.1464 - mae: 3.1464 - mse: 17.6070 - val_loss: 3.1594 - val_mae: 3.1594 - val_mse: 17.7206\n",
            "Epoch 180/200\n",
            "2604/2604 [==============================] - 3s 1ms/step - loss: 3.1463 - mae: 3.1463 - mse: 17.6145 - val_loss: 3.1592 - val_mae: 3.1592 - val_mse: 17.7020\n",
            "Epoch 181/200\n",
            "2604/2604 [==============================] - 3s 1ms/step - loss: 3.1462 - mae: 3.1462 - mse: 17.6080 - val_loss: 3.1591 - val_mae: 3.1591 - val_mse: 17.7079\n",
            "Epoch 182/200\n",
            "2604/2604 [==============================] - 3s 1ms/step - loss: 3.1461 - mae: 3.1461 - mse: 17.6021 - val_loss: 3.1589 - val_mae: 3.1589 - val_mse: 17.7258\n",
            "Epoch 183/200\n",
            "2604/2604 [==============================] - 4s 1ms/step - loss: 3.1460 - mae: 3.1460 - mse: 17.6097 - val_loss: 3.1588 - val_mae: 3.1588 - val_mse: 17.7017\n",
            "Epoch 184/200\n",
            "2604/2604 [==============================] - 4s 2ms/step - loss: 3.1458 - mae: 3.1458 - mse: 17.6080 - val_loss: 3.1587 - val_mae: 3.1587 - val_mse: 17.6925\n",
            "Epoch 185/200\n",
            "2604/2604 [==============================] - 4s 2ms/step - loss: 3.1457 - mae: 3.1457 - mse: 17.6017 - val_loss: 3.1585 - val_mae: 3.1585 - val_mse: 17.7273\n",
            "Epoch 186/200\n",
            "2604/2604 [==============================] - 3s 1ms/step - loss: 3.1456 - mae: 3.1456 - mse: 17.6133 - val_loss: 3.1584 - val_mae: 3.1584 - val_mse: 17.7032\n",
            "Epoch 187/200\n",
            "2604/2604 [==============================] - 3s 1ms/step - loss: 3.1455 - mae: 3.1455 - mse: 17.6020 - val_loss: 3.1583 - val_mae: 3.1583 - val_mse: 17.7188\n",
            "Epoch 188/200\n",
            "2604/2604 [==============================] - 4s 1ms/step - loss: 3.1454 - mae: 3.1454 - mse: 17.6067 - val_loss: 3.1582 - val_mae: 3.1582 - val_mse: 17.7006\n",
            "Epoch 189/200\n",
            "2604/2604 [==============================] - 4s 2ms/step - loss: 3.1453 - mae: 3.1453 - mse: 17.5980 - val_loss: 3.1581 - val_mae: 3.1581 - val_mse: 17.7132\n",
            "Epoch 190/200\n",
            "2604/2604 [==============================] - 3s 1ms/step - loss: 3.1452 - mae: 3.1452 - mse: 17.6008 - val_loss: 3.1580 - val_mae: 3.1580 - val_mse: 17.7439\n",
            "Epoch 191/200\n",
            "2604/2604 [==============================] - 4s 1ms/step - loss: 3.1452 - mae: 3.1452 - mse: 17.6040 - val_loss: 3.1578 - val_mae: 3.1578 - val_mse: 17.7027\n",
            "Epoch 192/200\n",
            "2604/2604 [==============================] - 4s 2ms/step - loss: 3.1450 - mae: 3.1450 - mse: 17.5958 - val_loss: 3.1578 - val_mae: 3.1578 - val_mse: 17.7404\n",
            "Epoch 193/200\n",
            "2604/2604 [==============================] - 4s 2ms/step - loss: 3.1450 - mae: 3.1450 - mse: 17.6047 - val_loss: 3.1576 - val_mae: 3.1576 - val_mse: 17.7140\n",
            "Epoch 194/200\n",
            "2604/2604 [==============================] - 4s 1ms/step - loss: 3.1449 - mae: 3.1449 - mse: 17.6034 - val_loss: 3.1575 - val_mae: 3.1575 - val_mse: 17.7197\n",
            "Epoch 195/200\n",
            "2604/2604 [==============================] - 4s 1ms/step - loss: 3.1448 - mae: 3.1448 - mse: 17.6099 - val_loss: 3.1574 - val_mae: 3.1574 - val_mse: 17.7010\n",
            "Epoch 196/200\n",
            "2604/2604 [==============================] - 4s 2ms/step - loss: 3.1447 - mae: 3.1447 - mse: 17.6072 - val_loss: 3.1573 - val_mae: 3.1573 - val_mse: 17.6827\n",
            "Epoch 197/200\n",
            "2604/2604 [==============================] - 4s 2ms/step - loss: 3.1445 - mae: 3.1445 - mse: 17.5933 - val_loss: 3.1573 - val_mae: 3.1573 - val_mse: 17.7409\n",
            "Epoch 198/200\n",
            "2604/2604 [==============================] - 3s 1ms/step - loss: 3.1446 - mae: 3.1446 - mse: 17.6089 - val_loss: 3.1571 - val_mae: 3.1571 - val_mse: 17.6958\n",
            "Epoch 199/200\n",
            "2604/2604 [==============================] - 4s 2ms/step - loss: 3.1445 - mae: 3.1445 - mse: 17.6066 - val_loss: 3.1570 - val_mae: 3.1570 - val_mse: 17.6871\n",
            "Epoch 200/200\n",
            "2604/2604 [==============================] - 4s 2ms/step - loss: 3.1443 - mae: 3.1443 - mse: 17.6059 - val_loss: 3.1570 - val_mae: 3.1570 - val_mse: 17.6851\n"
          ],
          "name": "stdout"
        }
      ]
    },
    {
      "cell_type": "code",
      "metadata": {
        "colab": {
          "base_uri": "https://localhost:8080/"
        },
        "id": "69C8bqnEf_eZ",
        "outputId": "61163b38-214a-415e-d16a-3360aaf45ebd"
      },
      "source": [
        "model.summary()"
      ],
      "execution_count": null,
      "outputs": [
        {
          "output_type": "stream",
          "text": [
            "Model: \"sequential\"\n",
            "_________________________________________________________________\n",
            "Layer (type)                 Output Shape              Param #   \n",
            "=================================================================\n",
            "dense (Dense)                (32, 1)                   2         \n",
            "=================================================================\n",
            "Total params: 2\n",
            "Trainable params: 2\n",
            "Non-trainable params: 0\n",
            "_________________________________________________________________\n"
          ],
          "name": "stdout"
        }
      ]
    },
    {
      "cell_type": "code",
      "metadata": {
        "colab": {
          "base_uri": "https://localhost:8080/",
          "height": 705
        },
        "id": "PwbpONxhgcfS",
        "outputId": "ca25d135-b226-435c-b24c-e0b4420458ef"
      },
      "source": [
        "# string --> loss , mae, mse\n",
        "\n",
        "def plotGraphs(history, string): \n",
        "  plt.plot(history.history[string])\n",
        "  plt.plot(history.history[f'val_{string}'])\n",
        "  plt.xlabel('Num of Epochs')\n",
        "  plt.ylabel(string)\n",
        "  plt.legend([string, f'val_{string}'])\n",
        "  plt.show()\n",
        "\n",
        "plotGraphs(history, 'loss')\n",
        "plotGraphs(history, 'mae')"
      ],
      "execution_count": null,
      "outputs": [
        {
          "output_type": "display_data",
          "data": {
            "image/png": "[encoded data removed]",
            "text/plain": [
              "<Figure size 576x396 with 1 Axes>"
            ]
          },
          "metadata": {
            "tags": []
          }
        },
        {
          "output_type": "display_data",
          "data": {
            "image/png": "[encoded data removed]",
            "text/plain": [
              "<Figure size 576x396 with 1 Axes>"
            ]
          },
          "metadata": {
            "tags": []
          }
        }
      ]
    },
    {
      "cell_type": "code",
      "metadata": {
        "id": "vtBR9wGrgeqt"
      },
      "source": [
        "testPreds = model.predict(XTest).flatten() #array of all prediction values"
      ],
      "execution_count": null,
      "outputs": []
    },
    {
      "cell_type": "code",
      "metadata": {
        "colab": {
          "base_uri": "https://localhost:8080/",
          "height": 361
        },
        "id": "Pdw3itUAghDb",
        "outputId": "03f9cd2f-597d-43d0-a383-1df76c904d25"
      },
      "source": [
        "# prediciton plot --> how well is your model predicting across the actual labels\n",
        "\n",
        "def predPlot(labels, predictions):\n",
        "  plt.scatter(labels, predictions)\n",
        "  plt.ylabel('Predictions')\n",
        "  plt.xlabel('True Value or Labels')\n",
        "  plt.axis('equal')\n",
        "  plt.axis('square')\n",
        "  plt.xlim([0, plt.xlim()[1]])\n",
        "  plt.ylim([0, plt.ylim()[1]])\n",
        "  plt.plot([-100, 100], [-100,100])\n",
        "  plt.show()\n",
        "\n",
        "predPlot(yTest, testPreds)"
      ],
      "execution_count": null,
      "outputs": [
        {
          "output_type": "display_data",
          "data": {
            "image/png": "[encoded data removed]",
            "text/plain": [
              "<Figure size 576x396 with 1 Axes>"
            ]
          },
          "metadata": {
            "tags": []
          }
        }
      ]
    },
    {
      "cell_type": "code",
      "metadata": {
        "colab": {
          "base_uri": "https://localhost:8080/",
          "height": 361
        },
        "id": "RXMsWM76gjM7",
        "outputId": "91686d85-7af4-44c5-9a2c-fd3ede2af849"
      },
      "source": [
        "#error plot --> gaussian distribution \n",
        "\n",
        "def errorPlot(preds, labels, counts):\n",
        "  errors = preds - labels\n",
        "  plt.hist(errors, counts)\n",
        "  plt.xlabel('Error')\n",
        "  plt.ylabel('Counts')\n",
        "  plt.show()\n",
        "\n",
        "errorPlot(testPreds, yTest, numEpochs)"
      ],
      "execution_count": null,
      "outputs": [
        {
          "output_type": "display_data",
          "data": {
            "image/png": "[encoded data removed]",
            "text/plain": [
              "<Figure size 576x396 with 1 Axes>"
            ]
          },
          "metadata": {
            "tags": []
          }
        }
      ]
    }
  ]
}